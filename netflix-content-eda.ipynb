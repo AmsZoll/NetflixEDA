{
 "cells": [
  {
   "cell_type": "markdown",
   "id": "922e548d",
   "metadata": {
    "papermill": {
     "duration": 0.047197,
     "end_time": "2021-07-22T09:52:01.579552",
     "exception": false,
     "start_time": "2021-07-22T09:52:01.532355",
     "status": "completed"
    },
    "tags": []
   },
   "source": [
    "# Importing Libraries"
   ]
  },
  {
   "cell_type": "code",
   "execution_count": 1,
   "id": "e1153d8b",
   "metadata": {
    "execution": {
     "iopub.execute_input": "2021-07-22T09:52:01.678972Z",
     "iopub.status.busy": "2021-07-22T09:52:01.677209Z",
     "iopub.status.idle": "2021-07-22T09:52:02.777254Z",
     "shell.execute_reply": "2021-07-22T09:52:02.777757Z",
     "shell.execute_reply.started": "2021-07-22T09:49:11.490792Z"
    },
    "papermill": {
     "duration": 1.152329,
     "end_time": "2021-07-22T09:52:02.778096",
     "exception": false,
     "start_time": "2021-07-22T09:52:01.625767",
     "status": "completed"
    },
    "tags": []
   },
   "outputs": [],
   "source": [
    "#Importing necessary libraries for our analysis\n",
    "import numpy as np \n",
    "import pandas as pd\n",
    "import matplotlib.pyplot as plt\n",
    "import seaborn as sns"
   ]
  },
  {
   "cell_type": "markdown",
   "id": "f14c802b",
   "metadata": {
    "papermill": {
     "duration": 0.04555,
     "end_time": "2021-07-22T09:52:02.869775",
     "exception": false,
     "start_time": "2021-07-22T09:52:02.824225",
     "status": "completed"
    },
    "tags": []
   },
   "source": [
    "# Loading  the data"
   ]
  },
  {
   "cell_type": "code",
   "execution_count": 2,
   "id": "8bd79bf6",
   "metadata": {
    "execution": {
     "iopub.execute_input": "2021-07-22T09:52:02.965492Z",
     "iopub.status.busy": "2021-07-22T09:52:02.964363Z",
     "iopub.status.idle": "2021-07-22T09:52:03.211957Z",
     "shell.execute_reply": "2021-07-22T09:52:03.212509Z",
     "shell.execute_reply.started": "2021-07-22T09:49:11.504047Z"
    },
    "papermill": {
     "duration": 0.297244,
     "end_time": "2021-07-22T09:52:03.212698",
     "exception": false,
     "start_time": "2021-07-22T09:52:02.915454",
     "status": "completed"
    },
    "tags": []
   },
   "outputs": [],
   "source": [
    "Netflix_df=pd.read_csv(\"../input/netflix-shows/netflix_titles.csv\")"
   ]
  },
  {
   "cell_type": "markdown",
   "id": "27b3e538",
   "metadata": {
    "papermill": {
     "duration": 0.045579,
     "end_time": "2021-07-22T09:52:03.303952",
     "exception": false,
     "start_time": "2021-07-22T09:52:03.258373",
     "status": "completed"
    },
    "tags": []
   },
   "source": [
    "# Reading the Dataset"
   ]
  },
  {
   "cell_type": "code",
   "execution_count": 3,
   "id": "868c6820",
   "metadata": {
    "execution": {
     "iopub.execute_input": "2021-07-22T09:52:03.399400Z",
     "iopub.status.busy": "2021-07-22T09:52:03.398397Z",
     "iopub.status.idle": "2021-07-22T09:52:03.433320Z",
     "shell.execute_reply": "2021-07-22T09:52:03.432791Z",
     "shell.execute_reply.started": "2021-07-22T09:49:11.588639Z"
    },
    "papermill": {
     "duration": 0.083671,
     "end_time": "2021-07-22T09:52:03.433468",
     "exception": false,
     "start_time": "2021-07-22T09:52:03.349797",
     "status": "completed"
    },
    "tags": []
   },
   "outputs": [
    {
     "data": {
      "text/html": [
       "<div>\n",
       "<style scoped>\n",
       "    .dataframe tbody tr th:only-of-type {\n",
       "        vertical-align: middle;\n",
       "    }\n",
       "\n",
       "    .dataframe tbody tr th {\n",
       "        vertical-align: top;\n",
       "    }\n",
       "\n",
       "    .dataframe thead th {\n",
       "        text-align: right;\n",
       "    }\n",
       "</style>\n",
       "<table border=\"1\" class=\"dataframe\">\n",
       "  <thead>\n",
       "    <tr style=\"text-align: right;\">\n",
       "      <th></th>\n",
       "      <th>show_id</th>\n",
       "      <th>type</th>\n",
       "      <th>title</th>\n",
       "      <th>director</th>\n",
       "      <th>cast</th>\n",
       "      <th>country</th>\n",
       "      <th>date_added</th>\n",
       "      <th>release_year</th>\n",
       "      <th>rating</th>\n",
       "      <th>duration</th>\n",
       "      <th>listed_in</th>\n",
       "      <th>description</th>\n",
       "    </tr>\n",
       "  </thead>\n",
       "  <tbody>\n",
       "    <tr>\n",
       "      <th>0</th>\n",
       "      <td>s1</td>\n",
       "      <td>TV Show</td>\n",
       "      <td>3%</td>\n",
       "      <td>NaN</td>\n",
       "      <td>João Miguel, Bianca Comparato, Michel Gomes, R...</td>\n",
       "      <td>Brazil</td>\n",
       "      <td>August 14, 2020</td>\n",
       "      <td>2020</td>\n",
       "      <td>TV-MA</td>\n",
       "      <td>4 Seasons</td>\n",
       "      <td>International TV Shows, TV Dramas, TV Sci-Fi &amp;...</td>\n",
       "      <td>In a future where the elite inhabit an island ...</td>\n",
       "    </tr>\n",
       "    <tr>\n",
       "      <th>1</th>\n",
       "      <td>s2</td>\n",
       "      <td>Movie</td>\n",
       "      <td>7:19</td>\n",
       "      <td>Jorge Michel Grau</td>\n",
       "      <td>Demián Bichir, Héctor Bonilla, Oscar Serrano, ...</td>\n",
       "      <td>Mexico</td>\n",
       "      <td>December 23, 2016</td>\n",
       "      <td>2016</td>\n",
       "      <td>TV-MA</td>\n",
       "      <td>93 min</td>\n",
       "      <td>Dramas, International Movies</td>\n",
       "      <td>After a devastating earthquake hits Mexico Cit...</td>\n",
       "    </tr>\n",
       "    <tr>\n",
       "      <th>2</th>\n",
       "      <td>s3</td>\n",
       "      <td>Movie</td>\n",
       "      <td>23:59</td>\n",
       "      <td>Gilbert Chan</td>\n",
       "      <td>Tedd Chan, Stella Chung, Henley Hii, Lawrence ...</td>\n",
       "      <td>Singapore</td>\n",
       "      <td>December 20, 2018</td>\n",
       "      <td>2011</td>\n",
       "      <td>R</td>\n",
       "      <td>78 min</td>\n",
       "      <td>Horror Movies, International Movies</td>\n",
       "      <td>When an army recruit is found dead, his fellow...</td>\n",
       "    </tr>\n",
       "    <tr>\n",
       "      <th>3</th>\n",
       "      <td>s4</td>\n",
       "      <td>Movie</td>\n",
       "      <td>9</td>\n",
       "      <td>Shane Acker</td>\n",
       "      <td>Elijah Wood, John C. Reilly, Jennifer Connelly...</td>\n",
       "      <td>United States</td>\n",
       "      <td>November 16, 2017</td>\n",
       "      <td>2009</td>\n",
       "      <td>PG-13</td>\n",
       "      <td>80 min</td>\n",
       "      <td>Action &amp; Adventure, Independent Movies, Sci-Fi...</td>\n",
       "      <td>In a postapocalyptic world, rag-doll robots hi...</td>\n",
       "    </tr>\n",
       "    <tr>\n",
       "      <th>4</th>\n",
       "      <td>s5</td>\n",
       "      <td>Movie</td>\n",
       "      <td>21</td>\n",
       "      <td>Robert Luketic</td>\n",
       "      <td>Jim Sturgess, Kevin Spacey, Kate Bosworth, Aar...</td>\n",
       "      <td>United States</td>\n",
       "      <td>January 1, 2020</td>\n",
       "      <td>2008</td>\n",
       "      <td>PG-13</td>\n",
       "      <td>123 min</td>\n",
       "      <td>Dramas</td>\n",
       "      <td>A brilliant group of students become card-coun...</td>\n",
       "    </tr>\n",
       "  </tbody>\n",
       "</table>\n",
       "</div>"
      ],
      "text/plain": [
       "  show_id     type  title           director  \\\n",
       "0      s1  TV Show     3%                NaN   \n",
       "1      s2    Movie   7:19  Jorge Michel Grau   \n",
       "2      s3    Movie  23:59       Gilbert Chan   \n",
       "3      s4    Movie      9        Shane Acker   \n",
       "4      s5    Movie     21     Robert Luketic   \n",
       "\n",
       "                                                cast        country  \\\n",
       "0  João Miguel, Bianca Comparato, Michel Gomes, R...         Brazil   \n",
       "1  Demián Bichir, Héctor Bonilla, Oscar Serrano, ...         Mexico   \n",
       "2  Tedd Chan, Stella Chung, Henley Hii, Lawrence ...      Singapore   \n",
       "3  Elijah Wood, John C. Reilly, Jennifer Connelly...  United States   \n",
       "4  Jim Sturgess, Kevin Spacey, Kate Bosworth, Aar...  United States   \n",
       "\n",
       "          date_added  release_year rating   duration  \\\n",
       "0    August 14, 2020          2020  TV-MA  4 Seasons   \n",
       "1  December 23, 2016          2016  TV-MA     93 min   \n",
       "2  December 20, 2018          2011      R     78 min   \n",
       "3  November 16, 2017          2009  PG-13     80 min   \n",
       "4    January 1, 2020          2008  PG-13    123 min   \n",
       "\n",
       "                                           listed_in  \\\n",
       "0  International TV Shows, TV Dramas, TV Sci-Fi &...   \n",
       "1                       Dramas, International Movies   \n",
       "2                Horror Movies, International Movies   \n",
       "3  Action & Adventure, Independent Movies, Sci-Fi...   \n",
       "4                                             Dramas   \n",
       "\n",
       "                                         description  \n",
       "0  In a future where the elite inhabit an island ...  \n",
       "1  After a devastating earthquake hits Mexico Cit...  \n",
       "2  When an army recruit is found dead, his fellow...  \n",
       "3  In a postapocalyptic world, rag-doll robots hi...  \n",
       "4  A brilliant group of students become card-coun...  "
      ]
     },
     "execution_count": 3,
     "metadata": {},
     "output_type": "execute_result"
    }
   ],
   "source": [
    "Netflix_df.head(5)"
   ]
  },
  {
   "cell_type": "code",
   "execution_count": 4,
   "id": "1d4bae16",
   "metadata": {
    "execution": {
     "iopub.execute_input": "2021-07-22T09:52:03.545831Z",
     "iopub.status.busy": "2021-07-22T09:52:03.542048Z",
     "iopub.status.idle": "2021-07-22T09:52:03.563811Z",
     "shell.execute_reply": "2021-07-22T09:52:03.564391Z",
     "shell.execute_reply.started": "2021-07-22T09:49:11.611820Z"
    },
    "papermill": {
     "duration": 0.08342,
     "end_time": "2021-07-22T09:52:03.564576",
     "exception": false,
     "start_time": "2021-07-22T09:52:03.481156",
     "status": "completed"
    },
    "tags": []
   },
   "outputs": [
    {
     "name": "stdout",
     "output_type": "stream",
     "text": [
      "<class 'pandas.core.frame.DataFrame'>\n",
      "RangeIndex: 7787 entries, 0 to 7786\n",
      "Data columns (total 12 columns):\n",
      " #   Column        Non-Null Count  Dtype \n",
      "---  ------        --------------  ----- \n",
      " 0   show_id       7787 non-null   object\n",
      " 1   type          7787 non-null   object\n",
      " 2   title         7787 non-null   object\n",
      " 3   director      5398 non-null   object\n",
      " 4   cast          7069 non-null   object\n",
      " 5   country       7280 non-null   object\n",
      " 6   date_added    7777 non-null   object\n",
      " 7   release_year  7787 non-null   int64 \n",
      " 8   rating        7780 non-null   object\n",
      " 9   duration      7787 non-null   object\n",
      " 10  listed_in     7787 non-null   object\n",
      " 11  description   7787 non-null   object\n",
      "dtypes: int64(1), object(11)\n",
      "memory usage: 730.2+ KB\n"
     ]
    }
   ],
   "source": [
    "Netflix_df.info()"
   ]
  },
  {
   "cell_type": "markdown",
   "id": "9ea7b08d",
   "metadata": {
    "papermill": {
     "duration": 0.046886,
     "end_time": "2021-07-22T09:52:03.658688",
     "exception": false,
     "start_time": "2021-07-22T09:52:03.611802",
     "status": "completed"
    },
    "tags": []
   },
   "source": [
    "# Analysis of Movies and TV shows"
   ]
  },
  {
   "cell_type": "code",
   "execution_count": 5,
   "id": "bab46e4b",
   "metadata": {
    "execution": {
     "iopub.execute_input": "2021-07-22T09:52:03.762933Z",
     "iopub.status.busy": "2021-07-22T09:52:03.761958Z",
     "iopub.status.idle": "2021-07-22T09:52:03.766251Z",
     "shell.execute_reply": "2021-07-22T09:52:03.765608Z",
     "shell.execute_reply.started": "2021-07-22T09:49:11.646222Z"
    },
    "papermill": {
     "duration": 0.060538,
     "end_time": "2021-07-22T09:52:03.766395",
     "exception": false,
     "start_time": "2021-07-22T09:52:03.705857",
     "status": "completed"
    },
    "tags": []
   },
   "outputs": [
    {
     "data": {
      "text/plain": [
       "Movie      5377\n",
       "TV Show    2410\n",
       "Name: type, dtype: int64"
      ]
     },
     "execution_count": 5,
     "metadata": {},
     "output_type": "execute_result"
    }
   ],
   "source": [
    "Netflix_df[\"type\"].value_counts()"
   ]
  },
  {
   "cell_type": "markdown",
   "id": "4fbf018f",
   "metadata": {
    "papermill": {
     "duration": 0.046736,
     "end_time": "2021-07-22T09:52:03.861387",
     "exception": false,
     "start_time": "2021-07-22T09:52:03.814651",
     "status": "completed"
    },
    "tags": []
   },
   "source": [
    "# Spliting dataframe into 2 dataframes  (NetflixMoivies , NetflixTvShows)"
   ]
  },
  {
   "cell_type": "code",
   "execution_count": 6,
   "id": "4196407e",
   "metadata": {
    "execution": {
     "iopub.execute_input": "2021-07-22T09:52:03.966280Z",
     "iopub.status.busy": "2021-07-22T09:52:03.965257Z",
     "iopub.status.idle": "2021-07-22T09:52:03.970489Z",
     "shell.execute_reply": "2021-07-22T09:52:03.969727Z",
     "shell.execute_reply.started": "2021-07-22T09:49:11.658419Z"
    },
    "papermill": {
     "duration": 0.061797,
     "end_time": "2021-07-22T09:52:03.970641",
     "exception": false,
     "start_time": "2021-07-22T09:52:03.908844",
     "status": "completed"
    },
    "tags": []
   },
   "outputs": [],
   "source": [
    "NetflixTvShows=Netflix_df[Netflix_df['type']=='TV Show']"
   ]
  },
  {
   "cell_type": "code",
   "execution_count": 7,
   "id": "f4937939",
   "metadata": {
    "execution": {
     "iopub.execute_input": "2021-07-22T09:52:04.083178Z",
     "iopub.status.busy": "2021-07-22T09:52:04.082081Z",
     "iopub.status.idle": "2021-07-22T09:52:04.086763Z",
     "shell.execute_reply": "2021-07-22T09:52:04.086177Z",
     "shell.execute_reply.started": "2021-07-22T09:49:11.675808Z"
    },
    "papermill": {
     "duration": 0.068678,
     "end_time": "2021-07-22T09:52:04.086914",
     "exception": false,
     "start_time": "2021-07-22T09:52:04.018236",
     "status": "completed"
    },
    "tags": []
   },
   "outputs": [
    {
     "data": {
      "text/html": [
       "<div>\n",
       "<style scoped>\n",
       "    .dataframe tbody tr th:only-of-type {\n",
       "        vertical-align: middle;\n",
       "    }\n",
       "\n",
       "    .dataframe tbody tr th {\n",
       "        vertical-align: top;\n",
       "    }\n",
       "\n",
       "    .dataframe thead th {\n",
       "        text-align: right;\n",
       "    }\n",
       "</style>\n",
       "<table border=\"1\" class=\"dataframe\">\n",
       "  <thead>\n",
       "    <tr style=\"text-align: right;\">\n",
       "      <th></th>\n",
       "      <th>show_id</th>\n",
       "      <th>type</th>\n",
       "      <th>title</th>\n",
       "      <th>director</th>\n",
       "      <th>cast</th>\n",
       "      <th>country</th>\n",
       "      <th>date_added</th>\n",
       "      <th>release_year</th>\n",
       "      <th>rating</th>\n",
       "      <th>duration</th>\n",
       "      <th>listed_in</th>\n",
       "      <th>description</th>\n",
       "    </tr>\n",
       "  </thead>\n",
       "  <tbody>\n",
       "    <tr>\n",
       "      <th>0</th>\n",
       "      <td>s1</td>\n",
       "      <td>TV Show</td>\n",
       "      <td>3%</td>\n",
       "      <td>NaN</td>\n",
       "      <td>João Miguel, Bianca Comparato, Michel Gomes, R...</td>\n",
       "      <td>Brazil</td>\n",
       "      <td>August 14, 2020</td>\n",
       "      <td>2020</td>\n",
       "      <td>TV-MA</td>\n",
       "      <td>4 Seasons</td>\n",
       "      <td>International TV Shows, TV Dramas, TV Sci-Fi &amp;...</td>\n",
       "      <td>In a future where the elite inhabit an island ...</td>\n",
       "    </tr>\n",
       "    <tr>\n",
       "      <th>5</th>\n",
       "      <td>s6</td>\n",
       "      <td>TV Show</td>\n",
       "      <td>46</td>\n",
       "      <td>Serdar Akar</td>\n",
       "      <td>Erdal Beşikçioğlu, Yasemin Allen, Melis Birkan...</td>\n",
       "      <td>Turkey</td>\n",
       "      <td>July 1, 2017</td>\n",
       "      <td>2016</td>\n",
       "      <td>TV-MA</td>\n",
       "      <td>1 Season</td>\n",
       "      <td>International TV Shows, TV Dramas, TV Mysteries</td>\n",
       "      <td>A genetics professor experiments with a treatm...</td>\n",
       "    </tr>\n",
       "    <tr>\n",
       "      <th>11</th>\n",
       "      <td>s12</td>\n",
       "      <td>TV Show</td>\n",
       "      <td>1983</td>\n",
       "      <td>NaN</td>\n",
       "      <td>Robert Więckiewicz, Maciej Musiał, Michalina O...</td>\n",
       "      <td>Poland, United States</td>\n",
       "      <td>November 30, 2018</td>\n",
       "      <td>2018</td>\n",
       "      <td>TV-MA</td>\n",
       "      <td>1 Season</td>\n",
       "      <td>Crime TV Shows, International TV Shows, TV Dramas</td>\n",
       "      <td>In this dark alt-history thriller, a naïve law...</td>\n",
       "    </tr>\n",
       "  </tbody>\n",
       "</table>\n",
       "</div>"
      ],
      "text/plain": [
       "   show_id     type title     director  \\\n",
       "0       s1  TV Show    3%          NaN   \n",
       "5       s6  TV Show    46  Serdar Akar   \n",
       "11     s12  TV Show  1983          NaN   \n",
       "\n",
       "                                                 cast                country  \\\n",
       "0   João Miguel, Bianca Comparato, Michel Gomes, R...                 Brazil   \n",
       "5   Erdal Beşikçioğlu, Yasemin Allen, Melis Birkan...                 Turkey   \n",
       "11  Robert Więckiewicz, Maciej Musiał, Michalina O...  Poland, United States   \n",
       "\n",
       "           date_added  release_year rating   duration  \\\n",
       "0     August 14, 2020          2020  TV-MA  4 Seasons   \n",
       "5        July 1, 2017          2016  TV-MA   1 Season   \n",
       "11  November 30, 2018          2018  TV-MA   1 Season   \n",
       "\n",
       "                                            listed_in  \\\n",
       "0   International TV Shows, TV Dramas, TV Sci-Fi &...   \n",
       "5     International TV Shows, TV Dramas, TV Mysteries   \n",
       "11  Crime TV Shows, International TV Shows, TV Dramas   \n",
       "\n",
       "                                          description  \n",
       "0   In a future where the elite inhabit an island ...  \n",
       "5   A genetics professor experiments with a treatm...  \n",
       "11  In this dark alt-history thriller, a naïve law...  "
      ]
     },
     "execution_count": 7,
     "metadata": {},
     "output_type": "execute_result"
    }
   ],
   "source": [
    "NetflixTvShows.head(3)"
   ]
  },
  {
   "cell_type": "code",
   "execution_count": 8,
   "id": "e9f2332d",
   "metadata": {
    "execution": {
     "iopub.execute_input": "2021-07-22T09:52:04.190527Z",
     "iopub.status.busy": "2021-07-22T09:52:04.189676Z",
     "iopub.status.idle": "2021-07-22T09:52:04.194647Z",
     "shell.execute_reply": "2021-07-22T09:52:04.193997Z",
     "shell.execute_reply.started": "2021-07-22T09:49:11.702506Z"
    },
    "papermill": {
     "duration": 0.059101,
     "end_time": "2021-07-22T09:52:04.194804",
     "exception": false,
     "start_time": "2021-07-22T09:52:04.135703",
     "status": "completed"
    },
    "tags": []
   },
   "outputs": [],
   "source": [
    "NetflixMoivies=Netflix_df[Netflix_df['type']=='Movie']"
   ]
  },
  {
   "cell_type": "code",
   "execution_count": 9,
   "id": "f5159f13",
   "metadata": {
    "execution": {
     "iopub.execute_input": "2021-07-22T09:52:04.309469Z",
     "iopub.status.busy": "2021-07-22T09:52:04.308494Z",
     "iopub.status.idle": "2021-07-22T09:52:04.313570Z",
     "shell.execute_reply": "2021-07-22T09:52:04.313018Z",
     "shell.execute_reply.started": "2021-07-22T09:49:11.718896Z"
    },
    "papermill": {
     "duration": 0.070002,
     "end_time": "2021-07-22T09:52:04.313712",
     "exception": false,
     "start_time": "2021-07-22T09:52:04.243710",
     "status": "completed"
    },
    "tags": []
   },
   "outputs": [
    {
     "data": {
      "text/html": [
       "<div>\n",
       "<style scoped>\n",
       "    .dataframe tbody tr th:only-of-type {\n",
       "        vertical-align: middle;\n",
       "    }\n",
       "\n",
       "    .dataframe tbody tr th {\n",
       "        vertical-align: top;\n",
       "    }\n",
       "\n",
       "    .dataframe thead th {\n",
       "        text-align: right;\n",
       "    }\n",
       "</style>\n",
       "<table border=\"1\" class=\"dataframe\">\n",
       "  <thead>\n",
       "    <tr style=\"text-align: right;\">\n",
       "      <th></th>\n",
       "      <th>show_id</th>\n",
       "      <th>type</th>\n",
       "      <th>title</th>\n",
       "      <th>director</th>\n",
       "      <th>cast</th>\n",
       "      <th>country</th>\n",
       "      <th>date_added</th>\n",
       "      <th>release_year</th>\n",
       "      <th>rating</th>\n",
       "      <th>duration</th>\n",
       "      <th>listed_in</th>\n",
       "      <th>description</th>\n",
       "    </tr>\n",
       "  </thead>\n",
       "  <tbody>\n",
       "    <tr>\n",
       "      <th>1</th>\n",
       "      <td>s2</td>\n",
       "      <td>Movie</td>\n",
       "      <td>7:19</td>\n",
       "      <td>Jorge Michel Grau</td>\n",
       "      <td>Demián Bichir, Héctor Bonilla, Oscar Serrano, ...</td>\n",
       "      <td>Mexico</td>\n",
       "      <td>December 23, 2016</td>\n",
       "      <td>2016</td>\n",
       "      <td>TV-MA</td>\n",
       "      <td>93 min</td>\n",
       "      <td>Dramas, International Movies</td>\n",
       "      <td>After a devastating earthquake hits Mexico Cit...</td>\n",
       "    </tr>\n",
       "    <tr>\n",
       "      <th>2</th>\n",
       "      <td>s3</td>\n",
       "      <td>Movie</td>\n",
       "      <td>23:59</td>\n",
       "      <td>Gilbert Chan</td>\n",
       "      <td>Tedd Chan, Stella Chung, Henley Hii, Lawrence ...</td>\n",
       "      <td>Singapore</td>\n",
       "      <td>December 20, 2018</td>\n",
       "      <td>2011</td>\n",
       "      <td>R</td>\n",
       "      <td>78 min</td>\n",
       "      <td>Horror Movies, International Movies</td>\n",
       "      <td>When an army recruit is found dead, his fellow...</td>\n",
       "    </tr>\n",
       "    <tr>\n",
       "      <th>3</th>\n",
       "      <td>s4</td>\n",
       "      <td>Movie</td>\n",
       "      <td>9</td>\n",
       "      <td>Shane Acker</td>\n",
       "      <td>Elijah Wood, John C. Reilly, Jennifer Connelly...</td>\n",
       "      <td>United States</td>\n",
       "      <td>November 16, 2017</td>\n",
       "      <td>2009</td>\n",
       "      <td>PG-13</td>\n",
       "      <td>80 min</td>\n",
       "      <td>Action &amp; Adventure, Independent Movies, Sci-Fi...</td>\n",
       "      <td>In a postapocalyptic world, rag-doll robots hi...</td>\n",
       "    </tr>\n",
       "  </tbody>\n",
       "</table>\n",
       "</div>"
      ],
      "text/plain": [
       "  show_id   type  title           director  \\\n",
       "1      s2  Movie   7:19  Jorge Michel Grau   \n",
       "2      s3  Movie  23:59       Gilbert Chan   \n",
       "3      s4  Movie      9        Shane Acker   \n",
       "\n",
       "                                                cast        country  \\\n",
       "1  Demián Bichir, Héctor Bonilla, Oscar Serrano, ...         Mexico   \n",
       "2  Tedd Chan, Stella Chung, Henley Hii, Lawrence ...      Singapore   \n",
       "3  Elijah Wood, John C. Reilly, Jennifer Connelly...  United States   \n",
       "\n",
       "          date_added  release_year rating duration  \\\n",
       "1  December 23, 2016          2016  TV-MA   93 min   \n",
       "2  December 20, 2018          2011      R   78 min   \n",
       "3  November 16, 2017          2009  PG-13   80 min   \n",
       "\n",
       "                                           listed_in  \\\n",
       "1                       Dramas, International Movies   \n",
       "2                Horror Movies, International Movies   \n",
       "3  Action & Adventure, Independent Movies, Sci-Fi...   \n",
       "\n",
       "                                         description  \n",
       "1  After a devastating earthquake hits Mexico Cit...  \n",
       "2  When an army recruit is found dead, his fellow...  \n",
       "3  In a postapocalyptic world, rag-doll robots hi...  "
      ]
     },
     "execution_count": 9,
     "metadata": {},
     "output_type": "execute_result"
    }
   ],
   "source": [
    "NetflixMoivies.head(3)"
   ]
  },
  {
   "cell_type": "markdown",
   "id": "d4c834d3",
   "metadata": {
    "papermill": {
     "duration": 0.048349,
     "end_time": "2021-07-22T09:52:04.410864",
     "exception": false,
     "start_time": "2021-07-22T09:52:04.362515",
     "status": "completed"
    },
    "tags": []
   },
   "source": [
    "# Movies vs. TV shows"
   ]
  },
  {
   "cell_type": "code",
   "execution_count": 10,
   "id": "5aa655db",
   "metadata": {
    "execution": {
     "iopub.execute_input": "2021-07-22T09:52:04.524467Z",
     "iopub.status.busy": "2021-07-22T09:52:04.523600Z",
     "iopub.status.idle": "2021-07-22T09:52:04.691911Z",
     "shell.execute_reply": "2021-07-22T09:52:04.692437Z",
     "shell.execute_reply.started": "2021-07-22T09:49:11.749046Z"
    },
    "papermill": {
     "duration": 0.232257,
     "end_time": "2021-07-22T09:52:04.692628",
     "exception": false,
     "start_time": "2021-07-22T09:52:04.460371",
     "status": "completed"
    },
    "tags": []
   },
   "outputs": [
    {
     "data": {
      "text/plain": [
       "<AxesSubplot:xlabel='type', ylabel='count'>"
      ]
     },
     "execution_count": 10,
     "metadata": {},
     "output_type": "execute_result"
    },
    {
     "data": {
      "image/png": "[encoded data removed]",
      "text/plain": [
       "<Figure size 432x288 with 1 Axes>"
      ]
     },
     "metadata": {
      "needs_background": "light"
     },
     "output_type": "display_data"
    }
   ],
   "source": [
    "sns.countplot(x=\"type\",data=Netflix_df)"
   ]
  },
  {
   "cell_type": "markdown",
   "id": "30762e9e",
   "metadata": {
    "papermill": {
     "duration": 0.049218,
     "end_time": "2021-07-22T09:52:04.791560",
     "exception": false,
     "start_time": "2021-07-22T09:52:04.742342",
     "status": "completed"
    },
    "tags": []
   },
   "source": [
    "# movie rating analysis "
   ]
  },
  {
   "cell_type": "code",
   "execution_count": 11,
   "id": "8e515a28",
   "metadata": {
    "execution": {
     "iopub.execute_input": "2021-07-22T09:52:04.907457Z",
     "iopub.status.busy": "2021-07-22T09:52:04.906208Z",
     "iopub.status.idle": "2021-07-22T09:52:05.164770Z",
     "shell.execute_reply": "2021-07-22T09:52:05.164249Z",
     "shell.execute_reply.started": "2021-07-22T09:49:11.923650Z"
    },
    "papermill": {
     "duration": 0.323134,
     "end_time": "2021-07-22T09:52:05.164923",
     "exception": false,
     "start_time": "2021-07-22T09:52:04.841789",
     "status": "completed"
    },
    "tags": []
   },
   "outputs": [
    {
     "data": {
      "text/plain": [
       "<AxesSubplot:xlabel='count', ylabel='rating'>"
      ]
     },
     "execution_count": 11,
     "metadata": {},
     "output_type": "execute_result"
    },
    {
     "data": {
      "image/png": "[encoded data removed]",
      "text/plain": [
       "<Figure size 432x288 with 1 Axes>"
      ]
     },
     "metadata": {
      "needs_background": "light"
     },
     "output_type": "display_data"
    }
   ],
   "source": [
    "sns.countplot(y=\"rating\",data=NetflixMoivies)"
   ]
  },
  {
   "cell_type": "markdown",
   "id": "89d478a7",
   "metadata": {
    "papermill": {
     "duration": 0.050161,
     "end_time": "2021-07-22T09:52:05.265759",
     "exception": false,
     "start_time": "2021-07-22T09:52:05.215598",
     "status": "completed"
    },
    "tags": []
   },
   "source": [
    "# show rating analysis\n"
   ]
  },
  {
   "cell_type": "code",
   "execution_count": 12,
   "id": "ef79374b",
   "metadata": {
    "execution": {
     "iopub.execute_input": "2021-07-22T09:52:05.378397Z",
     "iopub.status.busy": "2021-07-22T09:52:05.376069Z",
     "iopub.status.idle": "2021-07-22T09:52:05.572439Z",
     "shell.execute_reply": "2021-07-22T09:52:05.571744Z",
     "shell.execute_reply.started": "2021-07-22T09:49:12.280864Z"
    },
    "papermill": {
     "duration": 0.255799,
     "end_time": "2021-07-22T09:52:05.572586",
     "exception": false,
     "start_time": "2021-07-22T09:52:05.316787",
     "status": "completed"
    },
    "tags": []
   },
   "outputs": [
    {
     "data": {
      "text/plain": [
       "<AxesSubplot:xlabel='count', ylabel='rating'>"
      ]
     },
     "execution_count": 12,
     "metadata": {},
     "output_type": "execute_result"
    },
    {
     "data": {
      "image/png": "[encoded data removed]",
      "text/plain": [
       "<Figure size 432x288 with 1 Axes>"
      ]
     },
     "metadata": {
      "needs_background": "light"
     },
     "output_type": "display_data"
    }
   ],
   "source": [
    "sns.countplot(y=\"rating\",data=NetflixTvShows)"
   ]
  },
  {
   "cell_type": "code",
   "execution_count": 13,
   "id": "6537ce6b",
   "metadata": {
    "execution": {
     "iopub.execute_input": "2021-07-22T09:52:05.695114Z",
     "iopub.status.busy": "2021-07-22T09:52:05.688130Z",
     "iopub.status.idle": "2021-07-22T09:52:05.700374Z",
     "shell.execute_reply": "2021-07-22T09:52:05.699648Z",
     "shell.execute_reply.started": "2021-07-22T09:49:12.558755Z"
    },
    "papermill": {
     "duration": 0.074597,
     "end_time": "2021-07-22T09:52:05.700532",
     "exception": false,
     "start_time": "2021-07-22T09:52:05.625935",
     "status": "completed"
    },
    "tags": []
   },
   "outputs": [
    {
     "data": {
      "text/html": [
       "<div>\n",
       "<style scoped>\n",
       "    .dataframe tbody tr th:only-of-type {\n",
       "        vertical-align: middle;\n",
       "    }\n",
       "\n",
       "    .dataframe tbody tr th {\n",
       "        vertical-align: top;\n",
       "    }\n",
       "\n",
       "    .dataframe thead th {\n",
       "        text-align: right;\n",
       "    }\n",
       "</style>\n",
       "<table border=\"1\" class=\"dataframe\">\n",
       "  <thead>\n",
       "    <tr style=\"text-align: right;\">\n",
       "      <th></th>\n",
       "      <th>show_id</th>\n",
       "      <th>type</th>\n",
       "      <th>title</th>\n",
       "      <th>director</th>\n",
       "      <th>cast</th>\n",
       "      <th>country</th>\n",
       "      <th>date_added</th>\n",
       "      <th>release_year</th>\n",
       "      <th>rating</th>\n",
       "      <th>duration</th>\n",
       "      <th>listed_in</th>\n",
       "      <th>description</th>\n",
       "    </tr>\n",
       "  </thead>\n",
       "  <tbody>\n",
       "    <tr>\n",
       "      <th>0</th>\n",
       "      <td>s1</td>\n",
       "      <td>TV Show</td>\n",
       "      <td>3%</td>\n",
       "      <td>NaN</td>\n",
       "      <td>João Miguel, Bianca Comparato, Michel Gomes, R...</td>\n",
       "      <td>Brazil</td>\n",
       "      <td>August 14, 2020</td>\n",
       "      <td>2020</td>\n",
       "      <td>TV-MA</td>\n",
       "      <td>4 Seasons</td>\n",
       "      <td>International TV Shows, TV Dramas, TV Sci-Fi &amp;...</td>\n",
       "      <td>In a future where the elite inhabit an island ...</td>\n",
       "    </tr>\n",
       "    <tr>\n",
       "      <th>1</th>\n",
       "      <td>s2</td>\n",
       "      <td>Movie</td>\n",
       "      <td>7:19</td>\n",
       "      <td>Jorge Michel Grau</td>\n",
       "      <td>Demián Bichir, Héctor Bonilla, Oscar Serrano, ...</td>\n",
       "      <td>Mexico</td>\n",
       "      <td>December 23, 2016</td>\n",
       "      <td>2016</td>\n",
       "      <td>TV-MA</td>\n",
       "      <td>93 min</td>\n",
       "      <td>Dramas, International Movies</td>\n",
       "      <td>After a devastating earthquake hits Mexico Cit...</td>\n",
       "    </tr>\n",
       "    <tr>\n",
       "      <th>2</th>\n",
       "      <td>s3</td>\n",
       "      <td>Movie</td>\n",
       "      <td>23:59</td>\n",
       "      <td>Gilbert Chan</td>\n",
       "      <td>Tedd Chan, Stella Chung, Henley Hii, Lawrence ...</td>\n",
       "      <td>Singapore</td>\n",
       "      <td>December 20, 2018</td>\n",
       "      <td>2011</td>\n",
       "      <td>R</td>\n",
       "      <td>78 min</td>\n",
       "      <td>Horror Movies, International Movies</td>\n",
       "      <td>When an army recruit is found dead, his fellow...</td>\n",
       "    </tr>\n",
       "  </tbody>\n",
       "</table>\n",
       "</div>"
      ],
      "text/plain": [
       "  show_id     type  title           director  \\\n",
       "0      s1  TV Show     3%                NaN   \n",
       "1      s2    Movie   7:19  Jorge Michel Grau   \n",
       "2      s3    Movie  23:59       Gilbert Chan   \n",
       "\n",
       "                                                cast    country  \\\n",
       "0  João Miguel, Bianca Comparato, Michel Gomes, R...     Brazil   \n",
       "1  Demián Bichir, Héctor Bonilla, Oscar Serrano, ...     Mexico   \n",
       "2  Tedd Chan, Stella Chung, Henley Hii, Lawrence ...  Singapore   \n",
       "\n",
       "          date_added  release_year rating   duration  \\\n",
       "0    August 14, 2020          2020  TV-MA  4 Seasons   \n",
       "1  December 23, 2016          2016  TV-MA     93 min   \n",
       "2  December 20, 2018          2011      R     78 min   \n",
       "\n",
       "                                           listed_in  \\\n",
       "0  International TV Shows, TV Dramas, TV Sci-Fi &...   \n",
       "1                       Dramas, International Movies   \n",
       "2                Horror Movies, International Movies   \n",
       "\n",
       "                                         description  \n",
       "0  In a future where the elite inhabit an island ...  \n",
       "1  After a devastating earthquake hits Mexico Cit...  \n",
       "2  When an army recruit is found dead, his fellow...  "
      ]
     },
     "execution_count": 13,
     "metadata": {},
     "output_type": "execute_result"
    }
   ],
   "source": [
    "Netflix_df.head(3)"
   ]
  },
  {
   "cell_type": "code",
   "execution_count": 14,
   "id": "577ffc79",
   "metadata": {
    "execution": {
     "iopub.execute_input": "2021-07-22T09:52:05.811496Z",
     "iopub.status.busy": "2021-07-22T09:52:05.810760Z",
     "iopub.status.idle": "2021-07-22T09:52:05.970468Z",
     "shell.execute_reply": "2021-07-22T09:52:05.969856Z",
     "shell.execute_reply.started": "2021-07-22T09:49:12.583687Z"
    },
    "papermill": {
     "duration": 0.217895,
     "end_time": "2021-07-22T09:52:05.970815",
     "exception": false,
     "start_time": "2021-07-22T09:52:05.752920",
     "status": "completed"
    },
    "tags": []
   },
   "outputs": [
    {
     "data": {
      "text/plain": [
       "<AxesSubplot:xlabel='release_year', ylabel='count'>"
      ]
     },
     "execution_count": 14,
     "metadata": {},
     "output_type": "execute_result"
    },
    {
     "data": {
      "image/png": "[encoded data removed]",
      "text/plain": [
       "<Figure size 432x288 with 1 Axes>"
      ]
     },
     "metadata": {
      "needs_background": "light"
     },
     "output_type": "display_data"
    }
   ],
   "source": [
    "sns.countplot(x=NetflixMoivies[\"release_year\"]>=2000)"
   ]
  },
  {
   "cell_type": "code",
   "execution_count": 15,
   "id": "f84943cc",
   "metadata": {
    "execution": {
     "iopub.execute_input": "2021-07-22T09:52:06.087327Z",
     "iopub.status.busy": "2021-07-22T09:52:06.086119Z",
     "iopub.status.idle": "2021-07-22T09:52:06.091012Z",
     "shell.execute_reply": "2021-07-22T09:52:06.090442Z",
     "shell.execute_reply.started": "2021-07-22T09:49:12.742135Z"
    },
    "papermill": {
     "duration": 0.065848,
     "end_time": "2021-07-22T09:52:06.091160",
     "exception": false,
     "start_time": "2021-07-22T09:52:06.025312",
     "status": "completed"
    },
    "tags": []
   },
   "outputs": [
    {
     "data": {
      "text/plain": [
       "2017    744\n",
       "2018    734\n",
       "2016    642\n",
       "2019    582\n",
       "2020    411\n",
       "       ... \n",
       "1959      1\n",
       "1966      1\n",
       "1963      1\n",
       "1964      1\n",
       "1947      1\n",
       "Name: release_year, Length: 72, dtype: int64"
      ]
     },
     "execution_count": 15,
     "metadata": {},
     "output_type": "execute_result"
    }
   ],
   "source": [
    "NetflixMoivies[\"release_year\"].value_counts()"
   ]
  },
  {
   "cell_type": "markdown",
   "id": "11594627",
   "metadata": {
    "papermill": {
     "duration": 0.054129,
     "end_time": "2021-07-22T09:52:06.200233",
     "exception": false,
     "start_time": "2021-07-22T09:52:06.146104",
     "status": "completed"
    },
    "tags": []
   },
   "source": [
    "# Loading \"Rating\" dataset"
   ]
  },
  {
   "cell_type": "code",
   "execution_count": 16,
   "id": "2271bbca",
   "metadata": {
    "execution": {
     "iopub.execute_input": "2021-07-22T09:52:06.311849Z",
     "iopub.status.busy": "2021-07-22T09:52:06.311153Z",
     "iopub.status.idle": "2021-07-22T09:52:07.282499Z",
     "shell.execute_reply": "2021-07-22T09:52:07.281765Z",
     "shell.execute_reply.started": "2021-07-22T09:49:12.755864Z"
    },
    "papermill": {
     "duration": 1.027853,
     "end_time": "2021-07-22T09:52:07.282656",
     "exception": false,
     "start_time": "2021-07-22T09:52:06.254803",
     "status": "completed"
    },
    "tags": []
   },
   "outputs": [],
   "source": [
    "imdb_rating=pd.read_csv(\"../input/imdb-extensive-dataset/IMDb ratings.csv\",usecols=[\"weighted_average_vote\"])\n"
   ]
  },
  {
   "cell_type": "code",
   "execution_count": 17,
   "id": "7ea0ec03",
   "metadata": {
    "execution": {
     "iopub.execute_input": "2021-07-22T09:52:07.403961Z",
     "iopub.status.busy": "2021-07-22T09:52:07.403282Z",
     "iopub.status.idle": "2021-07-22T09:52:07.407826Z",
     "shell.execute_reply": "2021-07-22T09:52:07.408371Z",
     "shell.execute_reply.started": "2021-07-22T09:49:13.040428Z"
    },
    "papermill": {
     "duration": 0.071936,
     "end_time": "2021-07-22T09:52:07.408556",
     "exception": false,
     "start_time": "2021-07-22T09:52:07.336620",
     "status": "completed"
    },
    "tags": []
   },
   "outputs": [
    {
     "data": {
      "text/html": [
       "<div>\n",
       "<style scoped>\n",
       "    .dataframe tbody tr th:only-of-type {\n",
       "        vertical-align: middle;\n",
       "    }\n",
       "\n",
       "    .dataframe tbody tr th {\n",
       "        vertical-align: top;\n",
       "    }\n",
       "\n",
       "    .dataframe thead th {\n",
       "        text-align: right;\n",
       "    }\n",
       "</style>\n",
       "<table border=\"1\" class=\"dataframe\">\n",
       "  <thead>\n",
       "    <tr style=\"text-align: right;\">\n",
       "      <th></th>\n",
       "      <th>weighted_average_vote</th>\n",
       "    </tr>\n",
       "  </thead>\n",
       "  <tbody>\n",
       "    <tr>\n",
       "      <th>0</th>\n",
       "      <td>5.9</td>\n",
       "    </tr>\n",
       "    <tr>\n",
       "      <th>1</th>\n",
       "      <td>6.1</td>\n",
       "    </tr>\n",
       "    <tr>\n",
       "      <th>2</th>\n",
       "      <td>5.8</td>\n",
       "    </tr>\n",
       "  </tbody>\n",
       "</table>\n",
       "</div>"
      ],
      "text/plain": [
       "   weighted_average_vote\n",
       "0                    5.9\n",
       "1                    6.1\n",
       "2                    5.8"
      ]
     },
     "execution_count": 17,
     "metadata": {},
     "output_type": "execute_result"
    }
   ],
   "source": [
    "imdb_rating.head(3)"
   ]
  },
  {
   "cell_type": "code",
   "execution_count": 18,
   "id": "3f4f7a52",
   "metadata": {
    "execution": {
     "iopub.execute_input": "2021-07-22T09:52:07.520475Z",
     "iopub.status.busy": "2021-07-22T09:52:07.519812Z",
     "iopub.status.idle": "2021-07-22T09:52:07.527829Z",
     "shell.execute_reply": "2021-07-22T09:52:07.528496Z",
     "shell.execute_reply.started": "2021-07-22T09:49:13.055005Z"
    },
    "papermill": {
     "duration": 0.06492,
     "end_time": "2021-07-22T09:52:07.528674",
     "exception": false,
     "start_time": "2021-07-22T09:52:07.463754",
     "status": "completed"
    },
    "tags": []
   },
   "outputs": [
    {
     "data": {
      "text/plain": [
       "weighted_average_vote    0\n",
       "dtype: int64"
      ]
     },
     "execution_count": 18,
     "metadata": {},
     "output_type": "execute_result"
    }
   ],
   "source": [
    "imdb_rating.isnull().sum()"
   ]
  },
  {
   "cell_type": "markdown",
   "id": "61303223",
   "metadata": {
    "papermill": {
     "duration": 0.054142,
     "end_time": "2021-07-22T09:52:07.637963",
     "exception": false,
     "start_time": "2021-07-22T09:52:07.583821",
     "status": "completed"
    },
    "tags": []
   },
   "source": [
    "# Loading \"Movie Titles\" dataset"
   ]
  },
  {
   "cell_type": "code",
   "execution_count": 19,
   "id": "52b3efd3",
   "metadata": {
    "execution": {
     "iopub.execute_input": "2021-07-22T09:52:07.750281Z",
     "iopub.status.busy": "2021-07-22T09:52:07.749601Z",
     "iopub.status.idle": "2021-07-22T09:52:09.543050Z",
     "shell.execute_reply": "2021-07-22T09:52:09.542135Z",
     "shell.execute_reply.started": "2021-07-22T09:49:13.071103Z"
    },
    "papermill": {
     "duration": 1.850758,
     "end_time": "2021-07-22T09:52:09.543210",
     "exception": false,
     "start_time": "2021-07-22T09:52:07.692452",
     "status": "completed"
    },
    "tags": []
   },
   "outputs": [
    {
     "name": "stderr",
     "output_type": "stream",
     "text": [
      "/opt/conda/lib/python3.7/site-packages/IPython/core/interactiveshell.py:3170: DtypeWarning: Columns (3) have mixed types.Specify dtype option on import or set low_memory=False.\n",
      "  interactivity=interactivity, compiler=compiler, result=result)\n"
     ]
    }
   ],
   "source": [
    "imdb_titles=pd.read_csv(\"../input/imdb-extensive-dataset/IMDb movies.csv\",usecols=['title','year','genre'])"
   ]
  },
  {
   "cell_type": "code",
   "execution_count": 20,
   "id": "1a33cc41",
   "metadata": {
    "execution": {
     "iopub.execute_input": "2021-07-22T09:52:09.662051Z",
     "iopub.status.busy": "2021-07-22T09:52:09.661348Z",
     "iopub.status.idle": "2021-07-22T09:52:09.666847Z",
     "shell.execute_reply": "2021-07-22T09:52:09.666249Z",
     "shell.execute_reply.started": "2021-07-22T09:49:13.590265Z"
    },
    "papermill": {
     "duration": 0.069361,
     "end_time": "2021-07-22T09:52:09.667017",
     "exception": false,
     "start_time": "2021-07-22T09:52:09.597656",
     "status": "completed"
    },
    "tags": []
   },
   "outputs": [
    {
     "data": {
      "text/html": [
       "<div>\n",
       "<style scoped>\n",
       "    .dataframe tbody tr th:only-of-type {\n",
       "        vertical-align: middle;\n",
       "    }\n",
       "\n",
       "    .dataframe tbody tr th {\n",
       "        vertical-align: top;\n",
       "    }\n",
       "\n",
       "    .dataframe thead th {\n",
       "        text-align: right;\n",
       "    }\n",
       "</style>\n",
       "<table border=\"1\" class=\"dataframe\">\n",
       "  <thead>\n",
       "    <tr style=\"text-align: right;\">\n",
       "      <th></th>\n",
       "      <th>title</th>\n",
       "      <th>year</th>\n",
       "      <th>genre</th>\n",
       "    </tr>\n",
       "  </thead>\n",
       "  <tbody>\n",
       "    <tr>\n",
       "      <th>0</th>\n",
       "      <td>Miss Jerry</td>\n",
       "      <td>1894</td>\n",
       "      <td>Romance</td>\n",
       "    </tr>\n",
       "    <tr>\n",
       "      <th>1</th>\n",
       "      <td>The Story of the Kelly Gang</td>\n",
       "      <td>1906</td>\n",
       "      <td>Biography, Crime, Drama</td>\n",
       "    </tr>\n",
       "  </tbody>\n",
       "</table>\n",
       "</div>"
      ],
      "text/plain": [
       "                         title  year                    genre\n",
       "0                   Miss Jerry  1894                  Romance\n",
       "1  The Story of the Kelly Gang  1906  Biography, Crime, Drama"
      ]
     },
     "execution_count": 20,
     "metadata": {},
     "output_type": "execute_result"
    }
   ],
   "source": [
    "imdb_titles.head(2)"
   ]
  },
  {
   "cell_type": "markdown",
   "id": "9d7ed328",
   "metadata": {
    "papermill": {
     "duration": 0.055324,
     "end_time": "2021-07-22T09:52:09.782128",
     "exception": false,
     "start_time": "2021-07-22T09:52:09.726804",
     "status": "completed"
    },
    "tags": []
   },
   "source": [
    "# Creating a dataframe from different dataset using merge function"
   ]
  },
  {
   "cell_type": "code",
   "execution_count": 21,
   "id": "a7b40b94",
   "metadata": {
    "execution": {
     "iopub.execute_input": "2021-07-22T09:52:09.902006Z",
     "iopub.status.busy": "2021-07-22T09:52:09.898884Z",
     "iopub.status.idle": "2021-07-22T09:52:09.904392Z",
     "shell.execute_reply": "2021-07-22T09:52:09.904908Z",
     "shell.execute_reply.started": "2021-07-22T09:49:13.608035Z"
    },
    "papermill": {
     "duration": 0.067002,
     "end_time": "2021-07-22T09:52:09.905097",
     "exception": false,
     "start_time": "2021-07-22T09:52:09.838095",
     "status": "completed"
    },
    "tags": []
   },
   "outputs": [],
   "source": [
    "ratings=pd.DataFrame({'Title':imdb_titles.title,\n",
    "                     'Release Year':imdb_titles.year,\n",
    "                     'Rating': imdb_rating.weighted_average_vote,\n",
    "                     'Genre':imdb_titles.genre})"
   ]
  },
  {
   "cell_type": "code",
   "execution_count": 22,
   "id": "559cc363",
   "metadata": {
    "execution": {
     "iopub.execute_input": "2021-07-22T09:52:10.020495Z",
     "iopub.status.busy": "2021-07-22T09:52:10.019790Z",
     "iopub.status.idle": "2021-07-22T09:52:10.033521Z",
     "shell.execute_reply": "2021-07-22T09:52:10.032813Z",
     "shell.execute_reply.started": "2021-07-22T09:49:13.625100Z"
    },
    "papermill": {
     "duration": 0.072391,
     "end_time": "2021-07-22T09:52:10.033684",
     "exception": false,
     "start_time": "2021-07-22T09:52:09.961293",
     "status": "completed"
    },
    "tags": []
   },
   "outputs": [
    {
     "data": {
      "text/html": [
       "<div>\n",
       "<style scoped>\n",
       "    .dataframe tbody tr th:only-of-type {\n",
       "        vertical-align: middle;\n",
       "    }\n",
       "\n",
       "    .dataframe tbody tr th {\n",
       "        vertical-align: top;\n",
       "    }\n",
       "\n",
       "    .dataframe thead th {\n",
       "        text-align: right;\n",
       "    }\n",
       "</style>\n",
       "<table border=\"1\" class=\"dataframe\">\n",
       "  <thead>\n",
       "    <tr style=\"text-align: right;\">\n",
       "      <th></th>\n",
       "      <th>Title</th>\n",
       "      <th>Release Year</th>\n",
       "      <th>Rating</th>\n",
       "      <th>Genre</th>\n",
       "    </tr>\n",
       "  </thead>\n",
       "  <tbody>\n",
       "    <tr>\n",
       "      <th>0</th>\n",
       "      <td>Miss Jerry</td>\n",
       "      <td>1894</td>\n",
       "      <td>5.9</td>\n",
       "      <td>Romance</td>\n",
       "    </tr>\n",
       "    <tr>\n",
       "      <th>1</th>\n",
       "      <td>The Story of the Kelly Gang</td>\n",
       "      <td>1906</td>\n",
       "      <td>6.1</td>\n",
       "      <td>Biography, Crime, Drama</td>\n",
       "    </tr>\n",
       "    <tr>\n",
       "      <th>2</th>\n",
       "      <td>Den sorte drøm</td>\n",
       "      <td>1911</td>\n",
       "      <td>5.8</td>\n",
       "      <td>Drama</td>\n",
       "    </tr>\n",
       "    <tr>\n",
       "      <th>3</th>\n",
       "      <td>Cleopatra</td>\n",
       "      <td>1912</td>\n",
       "      <td>5.2</td>\n",
       "      <td>Drama, History</td>\n",
       "    </tr>\n",
       "    <tr>\n",
       "      <th>4</th>\n",
       "      <td>L'Inferno</td>\n",
       "      <td>1911</td>\n",
       "      <td>7.0</td>\n",
       "      <td>Adventure, Drama, Fantasy</td>\n",
       "    </tr>\n",
       "  </tbody>\n",
       "</table>\n",
       "</div>"
      ],
      "text/plain": [
       "                         Title Release Year  Rating                      Genre\n",
       "0                   Miss Jerry         1894     5.9                    Romance\n",
       "1  The Story of the Kelly Gang         1906     6.1    Biography, Crime, Drama\n",
       "2               Den sorte drøm         1911     5.8                      Drama\n",
       "3                    Cleopatra         1912     5.2             Drama, History\n",
       "4                    L'Inferno         1911     7.0  Adventure, Drama, Fantasy"
      ]
     },
     "execution_count": 22,
     "metadata": {},
     "output_type": "execute_result"
    }
   ],
   "source": [
    "ratings.head()"
   ]
  },
  {
   "cell_type": "code",
   "execution_count": 23,
   "id": "d4130b47",
   "metadata": {
    "execution": {
     "iopub.execute_input": "2021-07-22T09:52:10.155428Z",
     "iopub.status.busy": "2021-07-22T09:52:10.154699Z",
     "iopub.status.idle": "2021-07-22T09:52:10.212712Z",
     "shell.execute_reply": "2021-07-22T09:52:10.213322Z",
     "shell.execute_reply.started": "2021-07-22T09:49:13.647498Z"
    },
    "papermill": {
     "duration": 0.121,
     "end_time": "2021-07-22T09:52:10.213505",
     "exception": false,
     "start_time": "2021-07-22T09:52:10.092505",
     "status": "completed"
    },
    "tags": []
   },
   "outputs": [
    {
     "data": {
      "text/plain": [
       "False    85855\n",
       "dtype: int64"
      ]
     },
     "execution_count": 23,
     "metadata": {},
     "output_type": "execute_result"
    }
   ],
   "source": [
    "ratings.duplicated().value_counts()"
   ]
  },
  {
   "cell_type": "code",
   "execution_count": 24,
   "id": "0f07e5b4",
   "metadata": {
    "execution": {
     "iopub.execute_input": "2021-07-22T09:52:10.328923Z",
     "iopub.status.busy": "2021-07-22T09:52:10.328240Z",
     "iopub.status.idle": "2021-07-22T09:52:10.382187Z",
     "shell.execute_reply": "2021-07-22T09:52:10.381619Z",
     "shell.execute_reply.started": "2021-07-22T09:49:13.723482Z"
    },
    "papermill": {
     "duration": 0.11289,
     "end_time": "2021-07-22T09:52:10.382339",
     "exception": false,
     "start_time": "2021-07-22T09:52:10.269449",
     "status": "completed"
    },
    "tags": []
   },
   "outputs": [
    {
     "data": {
      "text/html": [
       "<div>\n",
       "<style scoped>\n",
       "    .dataframe tbody tr th:only-of-type {\n",
       "        vertical-align: middle;\n",
       "    }\n",
       "\n",
       "    .dataframe tbody tr th {\n",
       "        vertical-align: top;\n",
       "    }\n",
       "\n",
       "    .dataframe thead th {\n",
       "        text-align: right;\n",
       "    }\n",
       "</style>\n",
       "<table border=\"1\" class=\"dataframe\">\n",
       "  <thead>\n",
       "    <tr style=\"text-align: right;\">\n",
       "      <th></th>\n",
       "      <th>Title</th>\n",
       "      <th>Release Year</th>\n",
       "      <th>Rating</th>\n",
       "      <th>Genre</th>\n",
       "    </tr>\n",
       "  </thead>\n",
       "  <tbody>\n",
       "    <tr>\n",
       "      <th>0</th>\n",
       "      <td>Miss Jerry</td>\n",
       "      <td>1894</td>\n",
       "      <td>5.9</td>\n",
       "      <td>Romance</td>\n",
       "    </tr>\n",
       "    <tr>\n",
       "      <th>1</th>\n",
       "      <td>The Story of the Kelly Gang</td>\n",
       "      <td>1906</td>\n",
       "      <td>6.1</td>\n",
       "      <td>Biography, Crime, Drama</td>\n",
       "    </tr>\n",
       "    <tr>\n",
       "      <th>2</th>\n",
       "      <td>Den sorte drøm</td>\n",
       "      <td>1911</td>\n",
       "      <td>5.8</td>\n",
       "      <td>Drama</td>\n",
       "    </tr>\n",
       "    <tr>\n",
       "      <th>3</th>\n",
       "      <td>Cleopatra</td>\n",
       "      <td>1912</td>\n",
       "      <td>5.2</td>\n",
       "      <td>Drama, History</td>\n",
       "    </tr>\n",
       "    <tr>\n",
       "      <th>4</th>\n",
       "      <td>L'Inferno</td>\n",
       "      <td>1911</td>\n",
       "      <td>7.0</td>\n",
       "      <td>Adventure, Drama, Fantasy</td>\n",
       "    </tr>\n",
       "    <tr>\n",
       "      <th>...</th>\n",
       "      <td>...</td>\n",
       "      <td>...</td>\n",
       "      <td>...</td>\n",
       "      <td>...</td>\n",
       "    </tr>\n",
       "    <tr>\n",
       "      <th>85850</th>\n",
       "      <td>Le lion</td>\n",
       "      <td>2020</td>\n",
       "      <td>5.3</td>\n",
       "      <td>Comedy</td>\n",
       "    </tr>\n",
       "    <tr>\n",
       "      <th>85851</th>\n",
       "      <td>De Beentjes van Sint-Hildegard</td>\n",
       "      <td>2020</td>\n",
       "      <td>7.7</td>\n",
       "      <td>Comedy, Drama</td>\n",
       "    </tr>\n",
       "    <tr>\n",
       "      <th>85852</th>\n",
       "      <td>Padmavyuhathile Abhimanyu</td>\n",
       "      <td>2019</td>\n",
       "      <td>7.9</td>\n",
       "      <td>Drama</td>\n",
       "    </tr>\n",
       "    <tr>\n",
       "      <th>85853</th>\n",
       "      <td>Sokagin Çocuklari</td>\n",
       "      <td>2019</td>\n",
       "      <td>6.4</td>\n",
       "      <td>Drama, Family</td>\n",
       "    </tr>\n",
       "    <tr>\n",
       "      <th>85854</th>\n",
       "      <td>La vida sense la Sara Amat</td>\n",
       "      <td>2019</td>\n",
       "      <td>6.7</td>\n",
       "      <td>Drama</td>\n",
       "    </tr>\n",
       "  </tbody>\n",
       "</table>\n",
       "<p>85855 rows × 4 columns</p>\n",
       "</div>"
      ],
      "text/plain": [
       "                                Title Release Year  Rating  \\\n",
       "0                          Miss Jerry         1894     5.9   \n",
       "1         The Story of the Kelly Gang         1906     6.1   \n",
       "2                      Den sorte drøm         1911     5.8   \n",
       "3                           Cleopatra         1912     5.2   \n",
       "4                           L'Inferno         1911     7.0   \n",
       "...                               ...          ...     ...   \n",
       "85850                         Le lion         2020     5.3   \n",
       "85851  De Beentjes van Sint-Hildegard         2020     7.7   \n",
       "85852       Padmavyuhathile Abhimanyu         2019     7.9   \n",
       "85853               Sokagin Çocuklari         2019     6.4   \n",
       "85854      La vida sense la Sara Amat         2019     6.7   \n",
       "\n",
       "                           Genre  \n",
       "0                        Romance  \n",
       "1        Biography, Crime, Drama  \n",
       "2                          Drama  \n",
       "3                 Drama, History  \n",
       "4      Adventure, Drama, Fantasy  \n",
       "...                          ...  \n",
       "85850                     Comedy  \n",
       "85851              Comedy, Drama  \n",
       "85852                      Drama  \n",
       "85853              Drama, Family  \n",
       "85854                      Drama  \n",
       "\n",
       "[85855 rows x 4 columns]"
      ]
     },
     "execution_count": 24,
     "metadata": {},
     "output_type": "execute_result"
    }
   ],
   "source": [
    "ratings.dropna()"
   ]
  },
  {
   "cell_type": "code",
   "execution_count": 25,
   "id": "867c785a",
   "metadata": {
    "execution": {
     "iopub.execute_input": "2021-07-22T09:52:10.530466Z",
     "iopub.status.busy": "2021-07-22T09:52:10.529763Z",
     "iopub.status.idle": "2021-07-22T09:52:10.556610Z",
     "shell.execute_reply": "2021-07-22T09:52:10.557114Z",
     "shell.execute_reply.started": "2021-07-22T09:49:13.781285Z"
    },
    "papermill": {
     "duration": 0.117546,
     "end_time": "2021-07-22T09:52:10.557316",
     "exception": false,
     "start_time": "2021-07-22T09:52:10.439770",
     "status": "completed"
    },
    "tags": []
   },
   "outputs": [],
   "source": [
    "joint_data=ratings.merge(Netflix_df,left_on=\"Title\",right_on='title',how='inner')"
   ]
  },
  {
   "cell_type": "code",
   "execution_count": 26,
   "id": "afd01222",
   "metadata": {
    "execution": {
     "iopub.execute_input": "2021-07-22T09:52:10.676289Z",
     "iopub.status.busy": "2021-07-22T09:52:10.675273Z",
     "iopub.status.idle": "2021-07-22T09:52:10.694053Z",
     "shell.execute_reply": "2021-07-22T09:52:10.694522Z",
     "shell.execute_reply.started": "2021-07-22T09:49:13.845743Z"
    },
    "papermill": {
     "duration": 0.08005,
     "end_time": "2021-07-22T09:52:10.694702",
     "exception": false,
     "start_time": "2021-07-22T09:52:10.614652",
     "status": "completed"
    },
    "tags": []
   },
   "outputs": [
    {
     "data": {
      "text/html": [
       "<div>\n",
       "<style scoped>\n",
       "    .dataframe tbody tr th:only-of-type {\n",
       "        vertical-align: middle;\n",
       "    }\n",
       "\n",
       "    .dataframe tbody tr th {\n",
       "        vertical-align: top;\n",
       "    }\n",
       "\n",
       "    .dataframe thead th {\n",
       "        text-align: right;\n",
       "    }\n",
       "</style>\n",
       "<table border=\"1\" class=\"dataframe\">\n",
       "  <thead>\n",
       "    <tr style=\"text-align: right;\">\n",
       "      <th></th>\n",
       "      <th>Title</th>\n",
       "      <th>Release Year</th>\n",
       "      <th>Rating</th>\n",
       "      <th>Genre</th>\n",
       "      <th>show_id</th>\n",
       "      <th>type</th>\n",
       "      <th>title</th>\n",
       "      <th>director</th>\n",
       "      <th>cast</th>\n",
       "      <th>country</th>\n",
       "      <th>date_added</th>\n",
       "      <th>release_year</th>\n",
       "      <th>rating</th>\n",
       "      <th>duration</th>\n",
       "      <th>listed_in</th>\n",
       "      <th>description</th>\n",
       "    </tr>\n",
       "  </thead>\n",
       "  <tbody>\n",
       "    <tr>\n",
       "      <th>0</th>\n",
       "      <td>Sherlock Holmes</td>\n",
       "      <td>1916</td>\n",
       "      <td>6.4</td>\n",
       "      <td>Mystery</td>\n",
       "      <td>s5564</td>\n",
       "      <td>Movie</td>\n",
       "      <td>Sherlock Holmes</td>\n",
       "      <td>Guy Ritchie</td>\n",
       "      <td>Robert Downey Jr., Jude Law, Rachel McAdams, M...</td>\n",
       "      <td>United States, Germany, United Kingdom, Australia</td>\n",
       "      <td>January 1, 2021</td>\n",
       "      <td>2009</td>\n",
       "      <td>PG-13</td>\n",
       "      <td>128 min</td>\n",
       "      <td>Action &amp; Adventure, Comedies</td>\n",
       "      <td>The game is afoot for an eccentric detective w...</td>\n",
       "    </tr>\n",
       "  </tbody>\n",
       "</table>\n",
       "</div>"
      ],
      "text/plain": [
       "             Title Release Year  Rating    Genre show_id   type  \\\n",
       "0  Sherlock Holmes         1916     6.4  Mystery   s5564  Movie   \n",
       "\n",
       "             title     director  \\\n",
       "0  Sherlock Holmes  Guy Ritchie   \n",
       "\n",
       "                                                cast  \\\n",
       "0  Robert Downey Jr., Jude Law, Rachel McAdams, M...   \n",
       "\n",
       "                                             country       date_added  \\\n",
       "0  United States, Germany, United Kingdom, Australia  January 1, 2021   \n",
       "\n",
       "   release_year rating duration                     listed_in  \\\n",
       "0          2009  PG-13  128 min  Action & Adventure, Comedies   \n",
       "\n",
       "                                         description  \n",
       "0  The game is afoot for an eccentric detective w...  "
      ]
     },
     "execution_count": 26,
     "metadata": {},
     "output_type": "execute_result"
    }
   ],
   "source": [
    "joint_data.head(1)"
   ]
  },
  {
   "cell_type": "code",
   "execution_count": 27,
   "id": "8d53cc26",
   "metadata": {
    "execution": {
     "iopub.execute_input": "2021-07-22T09:52:10.813090Z",
     "iopub.status.busy": "2021-07-22T09:52:10.812092Z",
     "iopub.status.idle": "2021-07-22T09:52:10.817707Z",
     "shell.execute_reply": "2021-07-22T09:52:10.818223Z",
     "shell.execute_reply.started": "2021-07-22T09:49:13.869405Z"
    },
    "papermill": {
     "duration": 0.066701,
     "end_time": "2021-07-22T09:52:10.818393",
     "exception": false,
     "start_time": "2021-07-22T09:52:10.751692",
     "status": "completed"
    },
    "tags": []
   },
   "outputs": [
    {
     "data": {
      "text/plain": [
       "(2739, 16)"
      ]
     },
     "execution_count": 27,
     "metadata": {},
     "output_type": "execute_result"
    }
   ],
   "source": [
    "joint_data.shape"
   ]
  },
  {
   "cell_type": "code",
   "execution_count": 28,
   "id": "7ca931a0",
   "metadata": {
    "execution": {
     "iopub.execute_input": "2021-07-22T09:52:10.936341Z",
     "iopub.status.busy": "2021-07-22T09:52:10.935344Z",
     "iopub.status.idle": "2021-07-22T09:52:10.941450Z",
     "shell.execute_reply": "2021-07-22T09:52:10.941963Z",
     "shell.execute_reply.started": "2021-07-22T09:49:13.885561Z"
    },
    "papermill": {
     "duration": 0.066523,
     "end_time": "2021-07-22T09:52:10.942152",
     "exception": false,
     "start_time": "2021-07-22T09:52:10.875629",
     "status": "completed"
    },
    "tags": []
   },
   "outputs": [],
   "source": [
    "country_count=joint_data[\"country\"].value_counts()[0:11]"
   ]
  },
  {
   "cell_type": "code",
   "execution_count": 29,
   "id": "c51998e6",
   "metadata": {
    "execution": {
     "iopub.execute_input": "2021-07-22T09:52:11.061820Z",
     "iopub.status.busy": "2021-07-22T09:52:11.060832Z",
     "iopub.status.idle": "2021-07-22T09:52:11.067581Z",
     "shell.execute_reply": "2021-07-22T09:52:11.068095Z",
     "shell.execute_reply.started": "2021-07-22T09:49:13.902108Z"
    },
    "papermill": {
     "duration": 0.068145,
     "end_time": "2021-07-22T09:52:11.068265",
     "exception": false,
     "start_time": "2021-07-22T09:52:11.000120",
     "status": "completed"
    },
    "tags": []
   },
   "outputs": [
    {
     "data": {
      "text/plain": [
       "United States                    799\n",
       "India                            701\n",
       "United Kingdom                   107\n",
       "Canada                            56\n",
       "Philippines                       50\n",
       "Spain                             40\n",
       "South Korea                       36\n",
       "Indonesia                         35\n",
       "France                            33\n",
       "United Kingdom, United States     31\n",
       "Australia                         30\n",
       "Name: country, dtype: int64"
      ]
     },
     "execution_count": 29,
     "metadata": {},
     "output_type": "execute_result"
    }
   ],
   "source": [
    "country_count"
   ]
  },
  {
   "cell_type": "code",
   "execution_count": 30,
   "id": "5fb7286d",
   "metadata": {
    "execution": {
     "iopub.execute_input": "2021-07-22T09:52:11.187938Z",
     "iopub.status.busy": "2021-07-22T09:52:11.186938Z",
     "iopub.status.idle": "2021-07-22T09:52:11.192085Z",
     "shell.execute_reply": "2021-07-22T09:52:11.192593Z",
     "shell.execute_reply.started": "2021-07-22T09:49:13.917513Z"
    },
    "papermill": {
     "duration": 0.066381,
     "end_time": "2021-07-22T09:52:11.192781",
     "exception": false,
     "start_time": "2021-07-22T09:52:11.126400",
     "status": "completed"
    },
    "tags": []
   },
   "outputs": [],
   "source": [
    "number=list([799,701,107,56,50,40,36,35,33,31])\n",
    "Country=list([\"United States\", \"India\", \"United Kingdom\", \"Canada\", \"Spain\",'Turkey','Philippines','France','South Korea','Australia'])"
   ]
  },
  {
   "cell_type": "code",
   "execution_count": 31,
   "id": "28765c15",
   "metadata": {
    "execution": {
     "iopub.execute_input": "2021-07-22T09:52:11.312393Z",
     "iopub.status.busy": "2021-07-22T09:52:11.311383Z",
     "iopub.status.idle": "2021-07-22T09:52:11.319710Z",
     "shell.execute_reply": "2021-07-22T09:52:11.320179Z",
     "shell.execute_reply.started": "2021-07-22T09:49:13.931570Z"
    },
    "papermill": {
     "duration": 0.070076,
     "end_time": "2021-07-22T09:52:11.320359",
     "exception": false,
     "start_time": "2021-07-22T09:52:11.250283",
     "status": "completed"
    },
    "tags": []
   },
   "outputs": [
    {
     "data": {
      "text/plain": [
       "Movie      2395\n",
       "TV Show     344\n",
       "Name: type, dtype: int64"
      ]
     },
     "execution_count": 31,
     "metadata": {},
     "output_type": "execute_result"
    }
   ],
   "source": [
    "joint_data[\"type\"].value_counts()"
   ]
  },
  {
   "cell_type": "markdown",
   "id": "eee7a61f",
   "metadata": {
    "papermill": {
     "duration": 0.057488,
     "end_time": "2021-07-22T09:52:11.435587",
     "exception": false,
     "start_time": "2021-07-22T09:52:11.378099",
     "status": "completed"
    },
    "tags": []
   },
   "source": [
    "# Year wise analysis "
   ]
  },
  {
   "cell_type": "code",
   "execution_count": 32,
   "id": "e3939a76",
   "metadata": {
    "execution": {
     "iopub.execute_input": "2021-07-22T09:52:11.555820Z",
     "iopub.status.busy": "2021-07-22T09:52:11.554868Z",
     "iopub.status.idle": "2021-07-22T09:52:11.575214Z",
     "shell.execute_reply": "2021-07-22T09:52:11.575731Z",
     "shell.execute_reply.started": "2021-07-22T09:49:13.952196Z"
    },
    "papermill": {
     "duration": 0.08133,
     "end_time": "2021-07-22T09:52:11.575926",
     "exception": false,
     "start_time": "2021-07-22T09:52:11.494596",
     "status": "completed"
    },
    "tags": []
   },
   "outputs": [
    {
     "data": {
      "text/html": [
       "<div>\n",
       "<style scoped>\n",
       "    .dataframe tbody tr th:only-of-type {\n",
       "        vertical-align: middle;\n",
       "    }\n",
       "\n",
       "    .dataframe tbody tr th {\n",
       "        vertical-align: top;\n",
       "    }\n",
       "\n",
       "    .dataframe thead th {\n",
       "        text-align: right;\n",
       "    }\n",
       "</style>\n",
       "<table border=\"1\" class=\"dataframe\">\n",
       "  <thead>\n",
       "    <tr style=\"text-align: right;\">\n",
       "      <th></th>\n",
       "      <th>Title</th>\n",
       "      <th>Release Year</th>\n",
       "      <th>Rating</th>\n",
       "      <th>Genre</th>\n",
       "      <th>show_id</th>\n",
       "      <th>type</th>\n",
       "      <th>title</th>\n",
       "      <th>director</th>\n",
       "      <th>cast</th>\n",
       "      <th>country</th>\n",
       "      <th>date_added</th>\n",
       "      <th>release_year</th>\n",
       "      <th>rating</th>\n",
       "      <th>duration</th>\n",
       "      <th>listed_in</th>\n",
       "      <th>description</th>\n",
       "    </tr>\n",
       "  </thead>\n",
       "  <tbody>\n",
       "    <tr>\n",
       "      <th>0</th>\n",
       "      <td>Sherlock Holmes</td>\n",
       "      <td>1916</td>\n",
       "      <td>6.4</td>\n",
       "      <td>Mystery</td>\n",
       "      <td>s5564</td>\n",
       "      <td>Movie</td>\n",
       "      <td>Sherlock Holmes</td>\n",
       "      <td>Guy Ritchie</td>\n",
       "      <td>Robert Downey Jr., Jude Law, Rachel McAdams, M...</td>\n",
       "      <td>United States, Germany, United Kingdom, Australia</td>\n",
       "      <td>January 1, 2021</td>\n",
       "      <td>2009</td>\n",
       "      <td>PG-13</td>\n",
       "      <td>128 min</td>\n",
       "      <td>Action &amp; Adventure, Comedies</td>\n",
       "      <td>The game is afoot for an eccentric detective w...</td>\n",
       "    </tr>\n",
       "    <tr>\n",
       "      <th>1</th>\n",
       "      <td>Sherlock Holmes</td>\n",
       "      <td>1922</td>\n",
       "      <td>5.8</td>\n",
       "      <td>Drama, Mystery</td>\n",
       "      <td>s5564</td>\n",
       "      <td>Movie</td>\n",
       "      <td>Sherlock Holmes</td>\n",
       "      <td>Guy Ritchie</td>\n",
       "      <td>Robert Downey Jr., Jude Law, Rachel McAdams, M...</td>\n",
       "      <td>United States, Germany, United Kingdom, Australia</td>\n",
       "      <td>January 1, 2021</td>\n",
       "      <td>2009</td>\n",
       "      <td>PG-13</td>\n",
       "      <td>128 min</td>\n",
       "      <td>Action &amp; Adventure, Comedies</td>\n",
       "      <td>The game is afoot for an eccentric detective w...</td>\n",
       "    </tr>\n",
       "  </tbody>\n",
       "</table>\n",
       "</div>"
      ],
      "text/plain": [
       "             Title Release Year  Rating           Genre show_id   type  \\\n",
       "0  Sherlock Holmes         1916     6.4         Mystery   s5564  Movie   \n",
       "1  Sherlock Holmes         1922     5.8  Drama, Mystery   s5564  Movie   \n",
       "\n",
       "             title     director  \\\n",
       "0  Sherlock Holmes  Guy Ritchie   \n",
       "1  Sherlock Holmes  Guy Ritchie   \n",
       "\n",
       "                                                cast  \\\n",
       "0  Robert Downey Jr., Jude Law, Rachel McAdams, M...   \n",
       "1  Robert Downey Jr., Jude Law, Rachel McAdams, M...   \n",
       "\n",
       "                                             country       date_added  \\\n",
       "0  United States, Germany, United Kingdom, Australia  January 1, 2021   \n",
       "1  United States, Germany, United Kingdom, Australia  January 1, 2021   \n",
       "\n",
       "   release_year rating duration                     listed_in  \\\n",
       "0          2009  PG-13  128 min  Action & Adventure, Comedies   \n",
       "1          2009  PG-13  128 min  Action & Adventure, Comedies   \n",
       "\n",
       "                                         description  \n",
       "0  The game is afoot for an eccentric detective w...  \n",
       "1  The game is afoot for an eccentric detective w...  "
      ]
     },
     "execution_count": 32,
     "metadata": {},
     "output_type": "execute_result"
    }
   ],
   "source": [
    "joint_data.head(2)"
   ]
  },
  {
   "cell_type": "markdown",
   "id": "b65a729a",
   "metadata": {
    "papermill": {
     "duration": 0.05869,
     "end_time": "2021-07-22T09:52:11.698457",
     "exception": false,
     "start_time": "2021-07-22T09:52:11.639767",
     "status": "completed"
    },
    "tags": []
   },
   "source": [
    "# movies released on yearly basis"
   ]
  },
  {
   "cell_type": "code",
   "execution_count": 33,
   "id": "1528d3b3",
   "metadata": {
    "execution": {
     "iopub.execute_input": "2021-07-22T09:52:11.818817Z",
     "iopub.status.busy": "2021-07-22T09:52:11.817813Z",
     "iopub.status.idle": "2021-07-22T09:52:12.041227Z",
     "shell.execute_reply": "2021-07-22T09:52:12.041773Z",
     "shell.execute_reply.started": "2021-07-22T09:49:13.986439Z"
    },
    "papermill": {
     "duration": 0.285203,
     "end_time": "2021-07-22T09:52:12.041953",
     "exception": false,
     "start_time": "2021-07-22T09:52:11.756750",
     "status": "completed"
    },
    "tags": []
   },
   "outputs": [
    {
     "data": {
      "text/plain": [
       "<AxesSubplot:xlabel='count', ylabel='release_year'>"
      ]
     },
     "execution_count": 33,
     "metadata": {},
     "output_type": "execute_result"
    },
    {
     "data": {
      "image/png": "[encoded data removed]",
      "text/plain": [
       "<Figure size 432x288 with 1 Axes>"
      ]
     },
     "metadata": {
      "needs_background": "light"
     },
     "output_type": "display_data"
    }
   ],
   "source": [
    "sns.countplot(y=\"release_year\",data=NetflixMoivies,order=NetflixMoivies[\"release_year\"].value_counts().index[0:10])"
   ]
  },
  {
   "cell_type": "markdown",
   "id": "2b12737a",
   "metadata": {
    "papermill": {
     "duration": 0.058912,
     "end_time": "2021-07-22T09:52:12.161113",
     "exception": false,
     "start_time": "2021-07-22T09:52:12.102201",
     "status": "completed"
    },
    "tags": []
   },
   "source": [
    "# TVshow released on yearly basis"
   ]
  },
  {
   "cell_type": "code",
   "execution_count": 34,
   "id": "47f0315b",
   "metadata": {
    "execution": {
     "iopub.execute_input": "2021-07-22T09:52:12.284877Z",
     "iopub.status.busy": "2021-07-22T09:52:12.284234Z",
     "iopub.status.idle": "2021-07-22T09:52:12.493045Z",
     "shell.execute_reply": "2021-07-22T09:52:12.492363Z",
     "shell.execute_reply.started": "2021-07-22T09:49:14.267814Z"
    },
    "papermill": {
     "duration": 0.271849,
     "end_time": "2021-07-22T09:52:12.493193",
     "exception": false,
     "start_time": "2021-07-22T09:52:12.221344",
     "status": "completed"
    },
    "tags": []
   },
   "outputs": [
    {
     "data": {
      "text/plain": [
       "<AxesSubplot:xlabel='count', ylabel='release_year'>"
      ]
     },
     "execution_count": 34,
     "metadata": {},
     "output_type": "execute_result"
    },
    {
     "data": {
      "image/png": "[encoded data removed]",
      "text/plain": [
       "<Figure size 432x288 with 1 Axes>"
      ]
     },
     "metadata": {
      "needs_background": "light"
     },
     "output_type": "display_data"
    }
   ],
   "source": [
    "sns.countplot(y=\"release_year\",data=NetflixTvShows,order=NetflixTvShows[\"release_year\"].value_counts().index[0:10])"
   ]
  },
  {
   "cell_type": "code",
   "execution_count": 35,
   "id": "949ddc50",
   "metadata": {
    "execution": {
     "iopub.execute_input": "2021-07-22T09:52:12.621271Z",
     "iopub.status.busy": "2021-07-22T09:52:12.620535Z",
     "iopub.status.idle": "2021-07-22T09:52:12.624871Z",
     "shell.execute_reply": "2021-07-22T09:52:12.624353Z",
     "shell.execute_reply.started": "2021-07-22T09:49:14.520418Z"
    },
    "papermill": {
     "duration": 0.071392,
     "end_time": "2021-07-22T09:52:12.625062",
     "exception": false,
     "start_time": "2021-07-22T09:52:12.553670",
     "status": "completed"
    },
    "tags": []
   },
   "outputs": [
    {
     "data": {
      "text/plain": [
       "1        93 min\n",
       "2        78 min\n",
       "3        80 min\n",
       "4       123 min\n",
       "6        95 min\n",
       "         ...   \n",
       "7781     88 min\n",
       "7782     99 min\n",
       "7783    111 min\n",
       "7784     44 min\n",
       "7786     90 min\n",
       "Name: duration, Length: 5377, dtype: object"
      ]
     },
     "execution_count": 35,
     "metadata": {},
     "output_type": "execute_result"
    }
   ],
   "source": [
    "NetflixMoivies['duration']"
   ]
  },
  {
   "cell_type": "code",
   "execution_count": 36,
   "id": "beb9bf13",
   "metadata": {
    "execution": {
     "iopub.execute_input": "2021-07-22T09:52:12.768190Z",
     "iopub.status.busy": "2021-07-22T09:52:12.767397Z",
     "iopub.status.idle": "2021-07-22T09:52:12.785006Z",
     "shell.execute_reply": "2021-07-22T09:52:12.784294Z",
     "shell.execute_reply.started": "2021-07-22T09:49:14.530850Z"
    },
    "papermill": {
     "duration": 0.097837,
     "end_time": "2021-07-22T09:52:12.785185",
     "exception": false,
     "start_time": "2021-07-22T09:52:12.687348",
     "status": "completed"
    },
    "tags": []
   },
   "outputs": [
    {
     "name": "stderr",
     "output_type": "stream",
     "text": [
      "/opt/conda/lib/python3.7/site-packages/ipykernel_launcher.py:1: SettingWithCopyWarning: \n",
      "A value is trying to be set on a copy of a slice from a DataFrame.\n",
      "Try using .loc[row_indexer,col_indexer] = value instead\n",
      "\n",
      "See the caveats in the documentation: https://pandas.pydata.org/pandas-docs/stable/user_guide/indexing.html#returning-a-view-versus-a-copy\n",
      "  \"\"\"Entry point for launching an IPython kernel.\n"
     ]
    }
   ],
   "source": [
    "NetflixMoivies['duration']=NetflixMoivies['duration'].str.replace('min',\"\")"
   ]
  },
  {
   "cell_type": "code",
   "execution_count": 37,
   "id": "c9c06b5c",
   "metadata": {
    "execution": {
     "iopub.execute_input": "2021-07-22T09:52:12.922421Z",
     "iopub.status.busy": "2021-07-22T09:52:12.921469Z",
     "iopub.status.idle": "2021-07-22T09:52:12.925272Z",
     "shell.execute_reply": "2021-07-22T09:52:12.925721Z",
     "shell.execute_reply.started": "2021-07-22T09:49:14.554127Z"
    },
    "papermill": {
     "duration": 0.073345,
     "end_time": "2021-07-22T09:52:12.925900",
     "exception": false,
     "start_time": "2021-07-22T09:52:12.852555",
     "status": "completed"
    },
    "tags": []
   },
   "outputs": [
    {
     "data": {
      "text/plain": [
       "1        93 \n",
       "2        78 \n",
       "3        80 \n",
       "4       123 \n",
       "6        95 \n",
       "        ... \n",
       "7781     88 \n",
       "7782     99 \n",
       "7783    111 \n",
       "7784     44 \n",
       "7786     90 \n",
       "Name: duration, Length: 5377, dtype: object"
      ]
     },
     "execution_count": 37,
     "metadata": {},
     "output_type": "execute_result"
    }
   ],
   "source": [
    "NetflixMoivies['duration']"
   ]
  },
  {
   "cell_type": "code",
   "execution_count": 38,
   "id": "eddb8be0",
   "metadata": {
    "execution": {
     "iopub.execute_input": "2021-07-22T09:52:13.056750Z",
     "iopub.status.busy": "2021-07-22T09:52:13.055699Z",
     "iopub.status.idle": "2021-07-22T09:52:13.069313Z",
     "shell.execute_reply": "2021-07-22T09:52:13.069904Z",
     "shell.execute_reply.started": "2021-07-22T09:49:14.571794Z"
    },
    "papermill": {
     "duration": 0.081312,
     "end_time": "2021-07-22T09:52:13.070114",
     "exception": false,
     "start_time": "2021-07-22T09:52:12.988802",
     "status": "completed"
    },
    "tags": []
   },
   "outputs": [
    {
     "name": "stderr",
     "output_type": "stream",
     "text": [
      "/opt/conda/lib/python3.7/site-packages/ipykernel_launcher.py:1: SettingWithCopyWarning: \n",
      "A value is trying to be set on a copy of a slice from a DataFrame.\n",
      "Try using .loc[row_indexer,col_indexer] = value instead\n",
      "\n",
      "See the caveats in the documentation: https://pandas.pydata.org/pandas-docs/stable/user_guide/indexing.html#returning-a-view-versus-a-copy\n",
      "  \"\"\"Entry point for launching an IPython kernel.\n"
     ]
    }
   ],
   "source": [
    "NetflixMoivies['duration']=pd.to_numeric(NetflixMoivies['duration'])"
   ]
  },
  {
   "cell_type": "code",
   "execution_count": 39,
   "id": "0add33db",
   "metadata": {
    "execution": {
     "iopub.execute_input": "2021-07-22T09:52:13.237856Z",
     "iopub.status.busy": "2021-07-22T09:52:13.205245Z",
     "iopub.status.idle": "2021-07-22T09:52:13.673424Z",
     "shell.execute_reply": "2021-07-22T09:52:13.672838Z",
     "shell.execute_reply.started": "2021-07-22T09:49:14.589144Z"
    },
    "papermill": {
     "duration": 0.5406,
     "end_time": "2021-07-22T09:52:13.673573",
     "exception": false,
     "start_time": "2021-07-22T09:52:13.132973",
     "status": "completed"
    },
    "tags": []
   },
   "outputs": [
    {
     "data": {
      "text/plain": [
       "<AxesSubplot:xlabel='duration', ylabel='Density'>"
      ]
     },
     "execution_count": 39,
     "metadata": {},
     "output_type": "execute_result"
    },
    {
     "data": {
      "image/png": "[encoded data removed]",
      "text/plain": [
       "<Figure size 432x288 with 1 Axes>"
      ]
     },
     "metadata": {},
     "output_type": "display_data"
    }
   ],
   "source": [
    "sns.set(style=\"darkgrid\")\n",
    "sns.kdeplot(data=NetflixMoivies['duration'])"
   ]
  },
  {
   "cell_type": "markdown",
   "id": "71daf3c7",
   "metadata": {
    "papermill": {
     "duration": 0.063002,
     "end_time": "2021-07-22T09:52:13.800537",
     "exception": false,
     "start_time": "2021-07-22T09:52:13.737535",
     "status": "completed"
    },
    "tags": []
   },
   "source": [
    "# So, a good amount of movies on Netflix are among the duration of 75-120 mins. It is acceptable considering the fact that a fair amount of the audience cannot watch a 3 hour movie in one sitting"
   ]
  },
  {
   "cell_type": "code",
   "execution_count": 40,
   "id": "0d3383ae",
   "metadata": {
    "execution": {
     "iopub.execute_input": "2021-07-22T09:52:13.944345Z",
     "iopub.status.busy": "2021-07-22T09:52:13.943567Z",
     "iopub.status.idle": "2021-07-22T09:52:13.947264Z",
     "shell.execute_reply": "2021-07-22T09:52:13.946604Z",
     "shell.execute_reply.started": "2021-07-22T09:49:15.104085Z"
    },
    "papermill": {
     "duration": 0.082319,
     "end_time": "2021-07-22T09:52:13.947410",
     "exception": false,
     "start_time": "2021-07-22T09:52:13.865091",
     "status": "completed"
    },
    "tags": []
   },
   "outputs": [
    {
     "data": {
      "text/html": [
       "<div>\n",
       "<style scoped>\n",
       "    .dataframe tbody tr th:only-of-type {\n",
       "        vertical-align: middle;\n",
       "    }\n",
       "\n",
       "    .dataframe tbody tr th {\n",
       "        vertical-align: top;\n",
       "    }\n",
       "\n",
       "    .dataframe thead th {\n",
       "        text-align: right;\n",
       "    }\n",
       "</style>\n",
       "<table border=\"1\" class=\"dataframe\">\n",
       "  <thead>\n",
       "    <tr style=\"text-align: right;\">\n",
       "      <th></th>\n",
       "      <th>show_id</th>\n",
       "      <th>type</th>\n",
       "      <th>title</th>\n",
       "      <th>director</th>\n",
       "      <th>cast</th>\n",
       "      <th>country</th>\n",
       "      <th>date_added</th>\n",
       "      <th>release_year</th>\n",
       "      <th>rating</th>\n",
       "      <th>duration</th>\n",
       "      <th>listed_in</th>\n",
       "      <th>description</th>\n",
       "    </tr>\n",
       "  </thead>\n",
       "  <tbody>\n",
       "    <tr>\n",
       "      <th>1</th>\n",
       "      <td>s2</td>\n",
       "      <td>Movie</td>\n",
       "      <td>7:19</td>\n",
       "      <td>Jorge Michel Grau</td>\n",
       "      <td>Demián Bichir, Héctor Bonilla, Oscar Serrano, ...</td>\n",
       "      <td>Mexico</td>\n",
       "      <td>December 23, 2016</td>\n",
       "      <td>2016</td>\n",
       "      <td>TV-MA</td>\n",
       "      <td>93</td>\n",
       "      <td>Dramas, International Movies</td>\n",
       "      <td>After a devastating earthquake hits Mexico Cit...</td>\n",
       "    </tr>\n",
       "    <tr>\n",
       "      <th>2</th>\n",
       "      <td>s3</td>\n",
       "      <td>Movie</td>\n",
       "      <td>23:59</td>\n",
       "      <td>Gilbert Chan</td>\n",
       "      <td>Tedd Chan, Stella Chung, Henley Hii, Lawrence ...</td>\n",
       "      <td>Singapore</td>\n",
       "      <td>December 20, 2018</td>\n",
       "      <td>2011</td>\n",
       "      <td>R</td>\n",
       "      <td>78</td>\n",
       "      <td>Horror Movies, International Movies</td>\n",
       "      <td>When an army recruit is found dead, his fellow...</td>\n",
       "    </tr>\n",
       "  </tbody>\n",
       "</table>\n",
       "</div>"
      ],
      "text/plain": [
       "  show_id   type  title           director  \\\n",
       "1      s2  Movie   7:19  Jorge Michel Grau   \n",
       "2      s3  Movie  23:59       Gilbert Chan   \n",
       "\n",
       "                                                cast    country  \\\n",
       "1  Demián Bichir, Héctor Bonilla, Oscar Serrano, ...     Mexico   \n",
       "2  Tedd Chan, Stella Chung, Henley Hii, Lawrence ...  Singapore   \n",
       "\n",
       "          date_added  release_year rating  duration  \\\n",
       "1  December 23, 2016          2016  TV-MA        93   \n",
       "2  December 20, 2018          2011      R        78   \n",
       "\n",
       "                             listed_in  \\\n",
       "1         Dramas, International Movies   \n",
       "2  Horror Movies, International Movies   \n",
       "\n",
       "                                         description  \n",
       "1  After a devastating earthquake hits Mexico Cit...  \n",
       "2  When an army recruit is found dead, his fellow...  "
      ]
     },
     "execution_count": 40,
     "metadata": {},
     "output_type": "execute_result"
    }
   ],
   "source": [
    "NetflixMoivies.head(2)"
   ]
  },
  {
   "cell_type": "code",
   "execution_count": 41,
   "id": "af428751",
   "metadata": {
    "execution": {
     "iopub.execute_input": "2021-07-22T09:52:14.085857Z",
     "iopub.status.busy": "2021-07-22T09:52:14.084483Z",
     "iopub.status.idle": "2021-07-22T09:52:14.105006Z",
     "shell.execute_reply": "2021-07-22T09:52:14.104424Z",
     "shell.execute_reply.started": "2021-07-22T09:49:15.126542Z"
    },
    "papermill": {
     "duration": 0.0933,
     "end_time": "2021-07-22T09:52:14.105158",
     "exception": false,
     "start_time": "2021-07-22T09:52:14.011858",
     "status": "completed"
    },
    "tags": []
   },
   "outputs": [
    {
     "data": {
      "text/html": [
       "<div>\n",
       "<style scoped>\n",
       "    .dataframe tbody tr th:only-of-type {\n",
       "        vertical-align: middle;\n",
       "    }\n",
       "\n",
       "    .dataframe tbody tr th {\n",
       "        vertical-align: top;\n",
       "    }\n",
       "\n",
       "    .dataframe thead th {\n",
       "        text-align: right;\n",
       "    }\n",
       "</style>\n",
       "<table border=\"1\" class=\"dataframe\">\n",
       "  <thead>\n",
       "    <tr style=\"text-align: right;\">\n",
       "      <th></th>\n",
       "      <th>Title</th>\n",
       "      <th>Release Year</th>\n",
       "      <th>Rating</th>\n",
       "      <th>Genre</th>\n",
       "      <th>show_id</th>\n",
       "      <th>type</th>\n",
       "      <th>title</th>\n",
       "      <th>director</th>\n",
       "      <th>cast</th>\n",
       "      <th>country</th>\n",
       "      <th>date_added</th>\n",
       "      <th>release_year</th>\n",
       "      <th>rating</th>\n",
       "      <th>duration</th>\n",
       "      <th>listed_in</th>\n",
       "      <th>description</th>\n",
       "    </tr>\n",
       "  </thead>\n",
       "  <tbody>\n",
       "    <tr>\n",
       "      <th>0</th>\n",
       "      <td>Sherlock Holmes</td>\n",
       "      <td>1916</td>\n",
       "      <td>6.4</td>\n",
       "      <td>Mystery</td>\n",
       "      <td>s5564</td>\n",
       "      <td>Movie</td>\n",
       "      <td>Sherlock Holmes</td>\n",
       "      <td>Guy Ritchie</td>\n",
       "      <td>Robert Downey Jr., Jude Law, Rachel McAdams, M...</td>\n",
       "      <td>United States, Germany, United Kingdom, Australia</td>\n",
       "      <td>January 1, 2021</td>\n",
       "      <td>2009</td>\n",
       "      <td>PG-13</td>\n",
       "      <td>128 min</td>\n",
       "      <td>Action &amp; Adventure, Comedies</td>\n",
       "      <td>The game is afoot for an eccentric detective w...</td>\n",
       "    </tr>\n",
       "  </tbody>\n",
       "</table>\n",
       "</div>"
      ],
      "text/plain": [
       "             Title Release Year  Rating    Genre show_id   type  \\\n",
       "0  Sherlock Holmes         1916     6.4  Mystery   s5564  Movie   \n",
       "\n",
       "             title     director  \\\n",
       "0  Sherlock Holmes  Guy Ritchie   \n",
       "\n",
       "                                                cast  \\\n",
       "0  Robert Downey Jr., Jude Law, Rachel McAdams, M...   \n",
       "\n",
       "                                             country       date_added  \\\n",
       "0  United States, Germany, United Kingdom, Australia  January 1, 2021   \n",
       "\n",
       "   release_year rating duration                     listed_in  \\\n",
       "0          2009  PG-13  128 min  Action & Adventure, Comedies   \n",
       "\n",
       "                                         description  \n",
       "0  The game is afoot for an eccentric detective w...  "
      ]
     },
     "execution_count": 41,
     "metadata": {},
     "output_type": "execute_result"
    }
   ],
   "source": [
    "netflix_movies_1=joint_data[joint_data[\"type\"]==\"Movie\"]\n",
    "netflix_movies_1.head(1)"
   ]
  },
  {
   "cell_type": "code",
   "execution_count": 42,
   "id": "f2b6501f",
   "metadata": {
    "execution": {
     "iopub.execute_input": "2021-07-22T09:52:14.256172Z",
     "iopub.status.busy": "2021-07-22T09:52:14.255427Z",
     "iopub.status.idle": "2021-07-22T09:52:14.259748Z",
     "shell.execute_reply": "2021-07-22T09:52:14.259248Z",
     "shell.execute_reply.started": "2021-07-22T09:49:15.157328Z"
    },
    "papermill": {
     "duration": 0.089594,
     "end_time": "2021-07-22T09:52:14.259890",
     "exception": false,
     "start_time": "2021-07-22T09:52:14.170296",
     "status": "completed"
    },
    "tags": []
   },
   "outputs": [
    {
     "data": {
      "text/html": [
       "<div>\n",
       "<style scoped>\n",
       "    .dataframe tbody tr th:only-of-type {\n",
       "        vertical-align: middle;\n",
       "    }\n",
       "\n",
       "    .dataframe tbody tr th {\n",
       "        vertical-align: top;\n",
       "    }\n",
       "\n",
       "    .dataframe thead th {\n",
       "        text-align: right;\n",
       "    }\n",
       "</style>\n",
       "<table border=\"1\" class=\"dataframe\">\n",
       "  <thead>\n",
       "    <tr style=\"text-align: right;\">\n",
       "      <th></th>\n",
       "      <th>Title</th>\n",
       "      <th>Release Year</th>\n",
       "      <th>Rating</th>\n",
       "      <th>Genre</th>\n",
       "      <th>show_id</th>\n",
       "      <th>type</th>\n",
       "      <th>title</th>\n",
       "      <th>director</th>\n",
       "      <th>cast</th>\n",
       "      <th>country</th>\n",
       "      <th>date_added</th>\n",
       "      <th>release_year</th>\n",
       "      <th>rating</th>\n",
       "      <th>duration</th>\n",
       "      <th>listed_in</th>\n",
       "      <th>description</th>\n",
       "    </tr>\n",
       "  </thead>\n",
       "  <tbody>\n",
       "    <tr>\n",
       "      <th>398</th>\n",
       "      <td>Pulp Fiction</td>\n",
       "      <td>1994</td>\n",
       "      <td>8.9</td>\n",
       "      <td>Crime, Drama</td>\n",
       "      <td>s5003</td>\n",
       "      <td>Movie</td>\n",
       "      <td>Pulp Fiction</td>\n",
       "      <td>Quentin Tarantino</td>\n",
       "      <td>John Travolta, Samuel L. Jackson, Uma Thurman,...</td>\n",
       "      <td>United States</td>\n",
       "      <td>January 1, 2019</td>\n",
       "      <td>1994</td>\n",
       "      <td>R</td>\n",
       "      <td>154 min</td>\n",
       "      <td>Classic Movies, Cult Movies, Dramas</td>\n",
       "      <td>This stylized crime caper weaves together stor...</td>\n",
       "    </tr>\n",
       "  </tbody>\n",
       "</table>\n",
       "</div>"
      ],
      "text/plain": [
       "            Title Release Year  Rating         Genre show_id   type  \\\n",
       "398  Pulp Fiction         1994     8.9  Crime, Drama   s5003  Movie   \n",
       "\n",
       "            title           director  \\\n",
       "398  Pulp Fiction  Quentin Tarantino   \n",
       "\n",
       "                                                  cast        country  \\\n",
       "398  John Travolta, Samuel L. Jackson, Uma Thurman,...  United States   \n",
       "\n",
       "          date_added  release_year rating duration  \\\n",
       "398  January 1, 2019          1994      R  154 min   \n",
       "\n",
       "                               listed_in  \\\n",
       "398  Classic Movies, Cult Movies, Dramas   \n",
       "\n",
       "                                           description  \n",
       "398  This stylized crime caper weaves together stor...  "
      ]
     },
     "execution_count": 42,
     "metadata": {},
     "output_type": "execute_result"
    }
   ],
   "source": [
    "netflix_movies_1=netflix_movies_1.sort_values(by=[\"Rating\"], ascending=False)\n",
    "netflix_movies_1.head(1)"
   ]
  },
  {
   "cell_type": "code",
   "execution_count": 43,
   "id": "066253f0",
   "metadata": {
    "execution": {
     "iopub.execute_input": "2021-07-22T09:52:14.398344Z",
     "iopub.status.busy": "2021-07-22T09:52:14.397630Z",
     "iopub.status.idle": "2021-07-22T09:52:14.400697Z",
     "shell.execute_reply": "2021-07-22T09:52:14.401700Z",
     "shell.execute_reply.started": "2021-07-22T09:50:20.750128Z"
    },
    "papermill": {
     "duration": 0.076411,
     "end_time": "2021-07-22T09:52:14.401952",
     "exception": false,
     "start_time": "2021-07-22T09:52:14.325541",
     "status": "completed"
    },
    "scrolled": true,
    "tags": []
   },
   "outputs": [
    {
     "name": "stderr",
     "output_type": "stream",
     "text": [
      "/opt/conda/lib/python3.7/site-packages/ipykernel_launcher.py:2: SettingWithCopyWarning: \n",
      "A value is trying to be set on a copy of a slice from a DataFrame.\n",
      "Try using .loc[row_indexer,col_indexer] = value instead\n",
      "\n",
      "See the caveats in the documentation: https://pandas.pydata.org/pandas-docs/stable/user_guide/indexing.html#returning-a-view-versus-a-copy\n",
      "  \n"
     ]
    }
   ],
   "source": [
    "countries={}\n",
    "NetflixMoivies[\"country\"]=NetflixMoivies[\"country\"].fillna(\"unkown\")"
   ]
  },
  {
   "cell_type": "code",
   "execution_count": 44,
   "id": "ccf988a2",
   "metadata": {
    "execution": {
     "iopub.execute_input": "2021-07-22T09:52:14.538752Z",
     "iopub.status.busy": "2021-07-22T09:52:14.538030Z",
     "iopub.status.idle": "2021-07-22T09:52:14.562577Z",
     "shell.execute_reply": "2021-07-22T09:52:14.563190Z",
     "shell.execute_reply.started": "2021-07-22T09:50:28.242261Z"
    },
    "papermill": {
     "duration": 0.092898,
     "end_time": "2021-07-22T09:52:14.563370",
     "exception": false,
     "start_time": "2021-07-22T09:52:14.470472",
     "status": "completed"
    },
    "scrolled": true,
    "tags": []
   },
   "outputs": [
    {
     "data": {
      "text/plain": [
       "['Mexico',\n",
       " 'Singapore',\n",
       " 'United States',\n",
       " 'United States',\n",
       " 'Egypt',\n",
       " 'United States',\n",
       " 'India',\n",
       " 'India',\n",
       " 'United States',\n",
       " 'Thailand',\n",
       " 'United States',\n",
       " 'Nigeria',\n",
       " 'Norway, Iceland, United States',\n",
       " 'India',\n",
       " 'United Kingdom',\n",
       " 'India',\n",
       " 'India',\n",
       " 'India',\n",
       " 'India',\n",
       " 'United States',\n",
       " 'South Korea',\n",
       " 'Italy',\n",
       " 'Canada',\n",
       " 'Indonesia',\n",
       " 'Indonesia',\n",
       " 'United States',\n",
       " 'Canada',\n",
       " 'United States',\n",
       " 'Romania',\n",
       " 'Romania',\n",
       " 'Spain',\n",
       " 'Turkey',\n",
       " 'Iceland',\n",
       " 'Turkey',\n",
       " 'Nigeria',\n",
       " 'United States',\n",
       " 'United States',\n",
       " 'United States',\n",
       " 'South Africa, Nigeria',\n",
       " 'France',\n",
       " 'United States, South Africa',\n",
       " 'Spain',\n",
       " 'Portugal, Spain',\n",
       " 'United States',\n",
       " 'United States',\n",
       " 'Indonesia',\n",
       " 'India',\n",
       " 'United States',\n",
       " 'United States',\n",
       " 'United States',\n",
       " 'United States',\n",
       " 'unkown',\n",
       " 'Hong Kong, China, Singapore',\n",
       " 'United States',\n",
       " 'United States',\n",
       " 'United States, Germany',\n",
       " 'United States',\n",
       " 'Italy',\n",
       " 'Spain',\n",
       " 'United States',\n",
       " 'United States',\n",
       " 'France',\n",
       " 'India',\n",
       " 'United States',\n",
       " 'South Korea',\n",
       " 'United Kingdom',\n",
       " 'United States',\n",
       " 'United States',\n",
       " 'United States',\n",
       " 'South Africa, China, United States',\n",
       " 'India',\n",
       " 'South Korea',\n",
       " 'Argentina',\n",
       " 'United Kingdom',\n",
       " 'United States',\n",
       " 'United States, France, Serbia',\n",
       " 'unkown',\n",
       " 'United States',\n",
       " 'Indonesia',\n",
       " 'India',\n",
       " 'Canada',\n",
       " 'Germany',\n",
       " 'Egypt',\n",
       " 'United States',\n",
       " 'Denmark, France, Poland',\n",
       " 'Poland',\n",
       " 'Japan',\n",
       " 'Kenya',\n",
       " 'United States',\n",
       " 'Canada',\n",
       " 'Spain',\n",
       " 'United States',\n",
       " 'Nigeria',\n",
       " 'unkown',\n",
       " 'United States',\n",
       " 'Italy',\n",
       " 'United States',\n",
       " 'United States',\n",
       " 'United States',\n",
       " 'Indonesia',\n",
       " 'Romania',\n",
       " 'United States',\n",
       " 'New Zealand, United Kingdom',\n",
       " 'United States',\n",
       " 'United States',\n",
       " 'India',\n",
       " 'United States',\n",
       " 'Spain',\n",
       " 'Pakistan',\n",
       " 'India',\n",
       " 'India',\n",
       " 'Nigeria',\n",
       " 'Australia',\n",
       " 'Mexico, United States',\n",
       " 'United States',\n",
       " 'United States, China',\n",
       " 'China, Hong Kong',\n",
       " 'India',\n",
       " 'United States',\n",
       " 'United States, United Kingdom',\n",
       " 'United States',\n",
       " 'United States',\n",
       " 'Turkey',\n",
       " 'Taiwan',\n",
       " 'Canada',\n",
       " 'United States',\n",
       " 'United States',\n",
       " 'United States',\n",
       " 'France, South Korea, Japan',\n",
       " 'United States, Canada',\n",
       " 'United States',\n",
       " 'United Kingdom, United States',\n",
       " 'United States',\n",
       " 'United States',\n",
       " 'United States',\n",
       " 'Netherlands, Denmark, South Africa',\n",
       " 'Canada, United States',\n",
       " 'United States',\n",
       " 'India',\n",
       " 'Denmark',\n",
       " 'United States',\n",
       " 'United States',\n",
       " 'United States',\n",
       " 'United States',\n",
       " 'unkown',\n",
       " 'unkown',\n",
       " 'United Kingdom',\n",
       " 'United States',\n",
       " 'United States',\n",
       " 'United States',\n",
       " 'Germany',\n",
       " 'United States',\n",
       " 'Hong Kong',\n",
       " 'United States, China',\n",
       " 'United States',\n",
       " 'France, Netherlands, Singapore',\n",
       " 'United States',\n",
       " 'Argentina',\n",
       " 'United Kingdom',\n",
       " 'United States',\n",
       " 'Philippines',\n",
       " 'France',\n",
       " 'unkown',\n",
       " 'United Kingdom, Spain, United States',\n",
       " 'United Arab Emirates, United States',\n",
       " 'United States',\n",
       " 'Brazil',\n",
       " 'United States',\n",
       " 'United States',\n",
       " 'Netherlands',\n",
       " 'United Kingdom',\n",
       " 'United States',\n",
       " 'United States',\n",
       " 'United Kingdom, Hong Kong',\n",
       " 'United States',\n",
       " 'Spain',\n",
       " 'Canada',\n",
       " 'India',\n",
       " 'Philippines',\n",
       " 'United States',\n",
       " 'Iran, France',\n",
       " 'United States, United Kingdom, France',\n",
       " 'United Kingdom, France, Belgium, United States, China',\n",
       " 'Japan',\n",
       " 'United States',\n",
       " 'Argentina, Brazil, France, Poland, Germany, Denmark',\n",
       " 'United States',\n",
       " 'United States',\n",
       " 'United States',\n",
       " 'Taiwan',\n",
       " 'Israel, United States',\n",
       " 'United States, Mexico',\n",
       " 'United States',\n",
       " 'United States',\n",
       " 'unkown',\n",
       " 'Nigeria',\n",
       " 'India',\n",
       " 'Uruguay, Argentina, Spain',\n",
       " 'United States, Canada',\n",
       " 'United States',\n",
       " 'Philippines',\n",
       " 'United States',\n",
       " 'India',\n",
       " 'United States',\n",
       " 'Japan',\n",
       " 'Canada',\n",
       " 'United States',\n",
       " 'Singapore, France',\n",
       " 'Canada',\n",
       " 'United States',\n",
       " 'Turkey',\n",
       " 'India',\n",
       " 'India',\n",
       " 'India',\n",
       " 'India',\n",
       " 'India',\n",
       " 'India',\n",
       " 'India',\n",
       " 'India',\n",
       " 'India',\n",
       " 'India',\n",
       " 'India',\n",
       " 'India',\n",
       " 'India',\n",
       " 'India',\n",
       " 'India',\n",
       " 'Egypt',\n",
       " 'United States',\n",
       " 'Pakistan',\n",
       " 'India',\n",
       " 'United States',\n",
       " 'United Kingdom, United States, France, Germany',\n",
       " 'United Kingdom',\n",
       " 'Argentina',\n",
       " 'Mexico',\n",
       " 'Hong Kong',\n",
       " 'United States',\n",
       " 'Canada',\n",
       " 'United States, United Kingdom',\n",
       " 'United States',\n",
       " 'Turkey, United States',\n",
       " 'India',\n",
       " 'Bulgaria, United States',\n",
       " 'Canada',\n",
       " 'Spain',\n",
       " 'United States',\n",
       " 'United States',\n",
       " 'United States',\n",
       " 'France',\n",
       " 'United States',\n",
       " 'India',\n",
       " 'India',\n",
       " 'Australia, France',\n",
       " 'Hong Kong, Iceland, United States',\n",
       " 'India',\n",
       " 'United States',\n",
       " 'Canada, United States',\n",
       " 'United Arab Emirates',\n",
       " 'Brazil',\n",
       " 'United States',\n",
       " 'United States',\n",
       " 'United States',\n",
       " 'United States',\n",
       " 'United States, Mexico',\n",
       " 'United States',\n",
       " 'United Kingdom, United States',\n",
       " 'United States',\n",
       " 'United States, Chile',\n",
       " 'United Kingdom',\n",
       " 'Japan',\n",
       " 'India',\n",
       " 'Argentina',\n",
       " 'India',\n",
       " 'India',\n",
       " 'United States',\n",
       " 'United States, Japan',\n",
       " 'United States',\n",
       " 'India',\n",
       " 'India',\n",
       " 'India',\n",
       " 'India',\n",
       " 'India',\n",
       " 'India',\n",
       " 'India',\n",
       " 'unkown',\n",
       " 'India',\n",
       " 'unkown',\n",
       " 'Mexico',\n",
       " 'Egypt',\n",
       " 'United States',\n",
       " 'India',\n",
       " 'United States, Bulgaria',\n",
       " 'Colombia',\n",
       " 'Spain',\n",
       " 'Uruguay, Argentina',\n",
       " 'Mexico',\n",
       " 'United States',\n",
       " 'Egypt, Algeria',\n",
       " 'France, Egypt',\n",
       " 'Uruguay',\n",
       " 'United Arab Emirates',\n",
       " 'Turkey',\n",
       " 'United States',\n",
       " 'United States',\n",
       " 'Australia',\n",
       " 'unkown',\n",
       " 'Soviet Union, India',\n",
       " 'United States',\n",
       " 'Brazil',\n",
       " 'United States',\n",
       " 'United States',\n",
       " 'United States',\n",
       " 'United States',\n",
       " 'Sweden, United States',\n",
       " 'South Africa',\n",
       " 'United States',\n",
       " 'Malaysia',\n",
       " 'United States',\n",
       " 'Ireland, United Kingdom, United States',\n",
       " 'Spain, Italy',\n",
       " 'United States',\n",
       " 'United States',\n",
       " 'United States',\n",
       " 'Philippines',\n",
       " 'United States',\n",
       " 'United States',\n",
       " 'United Kingdom',\n",
       " 'Mexico',\n",
       " 'Brazil',\n",
       " 'United States',\n",
       " 'Hong Kong',\n",
       " 'Germany',\n",
       " 'United States',\n",
       " 'United States',\n",
       " 'United Kingdom, France, Germany',\n",
       " 'Philippines',\n",
       " 'United States, Germany, Canada',\n",
       " 'United States',\n",
       " 'United States, India',\n",
       " 'United States',\n",
       " 'unkown',\n",
       " 'Japan, United States',\n",
       " 'United States',\n",
       " 'Philippines',\n",
       " 'Denmark, United States',\n",
       " 'South Africa, United States',\n",
       " 'Spain',\n",
       " 'United Kingdom',\n",
       " 'India',\n",
       " 'Egypt',\n",
       " 'United States',\n",
       " 'United Kingdom',\n",
       " 'United States',\n",
       " 'United States',\n",
       " 'United States',\n",
       " 'United States',\n",
       " 'United States',\n",
       " 'United States',\n",
       " 'United States',\n",
       " 'United States',\n",
       " 'Canada',\n",
       " 'Canada, Luxembourg',\n",
       " 'United States',\n",
       " 'United Kingdom, United States',\n",
       " 'United States',\n",
       " 'United States',\n",
       " 'United States',\n",
       " 'United States, Canada',\n",
       " 'United States',\n",
       " 'United States',\n",
       " 'India',\n",
       " 'Turkey',\n",
       " 'India',\n",
       " 'United Kingdom',\n",
       " 'United States',\n",
       " 'United States',\n",
       " 'India',\n",
       " 'United States',\n",
       " 'United States',\n",
       " 'United States',\n",
       " 'United States',\n",
       " 'France',\n",
       " 'Egypt',\n",
       " 'United Kingdom, United States',\n",
       " 'Egypt',\n",
       " 'United States',\n",
       " 'United States',\n",
       " 'Serbia, United States',\n",
       " 'Colombia',\n",
       " 'Egypt',\n",
       " 'Brazil',\n",
       " 'India',\n",
       " 'India',\n",
       " 'Spain',\n",
       " 'Canada, Nigeria',\n",
       " 'Iceland, Sweden, Belgium',\n",
       " 'Egypt',\n",
       " 'India',\n",
       " 'India',\n",
       " 'unkown',\n",
       " 'India',\n",
       " 'Singapore',\n",
       " 'France',\n",
       " 'United States',\n",
       " 'India',\n",
       " 'United States',\n",
       " 'United States',\n",
       " 'Ireland, Canada',\n",
       " 'United States',\n",
       " 'United States, Italy',\n",
       " 'United States',\n",
       " 'India, Germany',\n",
       " 'unkown',\n",
       " 'India',\n",
       " 'United Kingdom',\n",
       " 'China, Spain, South Korea, United States',\n",
       " 'China',\n",
       " 'Spain, Belgium',\n",
       " 'India',\n",
       " 'United States',\n",
       " 'India',\n",
       " 'India',\n",
       " 'United States',\n",
       " 'United Kingdom, Canada, United States, Germany',\n",
       " 'Brazil, Netherlands, United States, Colombia, Austria, Germany',\n",
       " 'United States',\n",
       " 'Egypt',\n",
       " 'unkown',\n",
       " 'United States',\n",
       " 'United States',\n",
       " 'India',\n",
       " 'United States',\n",
       " 'unkown',\n",
       " 'India',\n",
       " 'United States',\n",
       " 'India',\n",
       " 'United States',\n",
       " 'United States, Canada',\n",
       " 'United Kingdom, United States',\n",
       " 'France, Canada, Belgium',\n",
       " 'France',\n",
       " 'United States',\n",
       " 'Colombia',\n",
       " 'India, United Kingdom, China, Canada, Japan, South Korea, United States',\n",
       " 'France, Belgium',\n",
       " 'Egypt',\n",
       " 'Iceland',\n",
       " 'United States',\n",
       " 'Indonesia',\n",
       " 'India',\n",
       " 'Canada, United States',\n",
       " 'United States',\n",
       " 'United States',\n",
       " 'United Kingdom, United States',\n",
       " 'India',\n",
       " 'Indonesia, South Korea, Singapore',\n",
       " 'United States',\n",
       " 'United States',\n",
       " 'India',\n",
       " 'India',\n",
       " 'India',\n",
       " 'United States',\n",
       " 'Norway',\n",
       " 'United States',\n",
       " 'Peru',\n",
       " 'India',\n",
       " 'South Korea',\n",
       " 'United States',\n",
       " 'Canada',\n",
       " 'United States',\n",
       " 'France, Senegal, Belgium',\n",
       " 'United States',\n",
       " 'United States, Canada',\n",
       " 'United Kingdom',\n",
       " 'Chile',\n",
       " 'United States',\n",
       " 'Romania, France, Switzerland, Germany',\n",
       " 'United Kingdom',\n",
       " 'United States',\n",
       " 'United States',\n",
       " 'United States',\n",
       " 'India',\n",
       " 'Bulgaria, United States, Spain, Canada',\n",
       " 'United States',\n",
       " 'Indonesia',\n",
       " 'United Kingdom',\n",
       " 'United States',\n",
       " 'Sweden, Netherlands',\n",
       " 'United Kingdom',\n",
       " 'United States',\n",
       " 'India',\n",
       " 'India',\n",
       " 'India',\n",
       " 'Mexico',\n",
       " 'Ghana',\n",
       " 'India',\n",
       " 'United States',\n",
       " 'United States',\n",
       " 'United States',\n",
       " 'India',\n",
       " 'India',\n",
       " 'India',\n",
       " 'India',\n",
       " 'India',\n",
       " 'unkown',\n",
       " 'unkown',\n",
       " 'unkown',\n",
       " 'India',\n",
       " 'unkown',\n",
       " 'unkown',\n",
       " 'India',\n",
       " 'Turkey',\n",
       " 'Turkey',\n",
       " 'France, United States, Mexico',\n",
       " 'India',\n",
       " 'South Africa',\n",
       " 'India',\n",
       " 'Brazil',\n",
       " 'Australia',\n",
       " 'unkown',\n",
       " 'Thailand',\n",
       " 'Canada',\n",
       " 'United States',\n",
       " 'United States',\n",
       " 'Australia, United Kingdom, United Arab Emirates, Canada',\n",
       " 'United States',\n",
       " 'United States',\n",
       " 'United Kingdom',\n",
       " 'Thailand',\n",
       " 'United States',\n",
       " 'Singapore, United States',\n",
       " 'United States, Canada',\n",
       " 'France, Belgium',\n",
       " 'India',\n",
       " 'India',\n",
       " 'United States',\n",
       " 'United States',\n",
       " 'United States',\n",
       " 'United States',\n",
       " 'Pakistan',\n",
       " 'Turkey',\n",
       " 'Nigeria',\n",
       " 'United States',\n",
       " 'United States',\n",
       " 'United States',\n",
       " 'India',\n",
       " 'Thailand',\n",
       " 'India',\n",
       " 'Thailand',\n",
       " 'Thailand',\n",
       " 'Spain',\n",
       " 'India',\n",
       " 'Saudi Arabia',\n",
       " 'Australia, Armenia, Japan, Jordan, Mexico, Mongolia, New Zealand, Philippines, South Africa, Sweden, United States, Uruguay',\n",
       " 'United States',\n",
       " 'United States, Canada',\n",
       " 'United States',\n",
       " 'United States',\n",
       " 'United States',\n",
       " 'United States',\n",
       " 'United States',\n",
       " 'United States',\n",
       " 'United States, Canada',\n",
       " 'United States, Canada',\n",
       " 'United States',\n",
       " 'United States',\n",
       " 'United States',\n",
       " 'Philippines',\n",
       " 'India',\n",
       " 'United States',\n",
       " 'India',\n",
       " 'Chile',\n",
       " 'United States',\n",
       " 'India',\n",
       " 'United States',\n",
       " 'United States, France',\n",
       " 'India',\n",
       " 'United States',\n",
       " 'United States',\n",
       " 'Norway, Denmark, Netherlands, Sweden',\n",
       " 'United States',\n",
       " 'India',\n",
       " 'Namibia',\n",
       " 'Mexico, Finland',\n",
       " 'India',\n",
       " 'India',\n",
       " 'United States, Australia',\n",
       " 'United States',\n",
       " 'Germany',\n",
       " 'United Kingdom, United States',\n",
       " 'United States',\n",
       " 'United States',\n",
       " 'Australia, Canada',\n",
       " 'United States',\n",
       " 'Mexico',\n",
       " 'Philippines',\n",
       " 'United States',\n",
       " 'United States',\n",
       " 'Indonesia',\n",
       " 'Egypt',\n",
       " 'United States',\n",
       " 'United Kingdom, Ireland',\n",
       " 'United States',\n",
       " 'United States, Australia',\n",
       " 'unkown',\n",
       " 'United States',\n",
       " 'United States',\n",
       " 'United States',\n",
       " 'Egypt',\n",
       " 'Japan, United States',\n",
       " 'United States',\n",
       " 'United States',\n",
       " 'India',\n",
       " 'United Kingdom',\n",
       " 'United States',\n",
       " 'Nigeria',\n",
       " 'United States',\n",
       " 'Lebanon',\n",
       " 'Belgium, France',\n",
       " 'New Zealand',\n",
       " 'Uruguay, Spain, Mexico',\n",
       " 'Canada',\n",
       " 'United States',\n",
       " 'United States',\n",
       " 'United States',\n",
       " 'United States',\n",
       " 'United Arab Emirates, United States',\n",
       " 'United States',\n",
       " 'United States',\n",
       " 'United States',\n",
       " 'Germany',\n",
       " 'Turkey',\n",
       " 'Australia',\n",
       " 'Germany',\n",
       " 'Germany',\n",
       " 'Japan',\n",
       " 'Japan',\n",
       " 'Japan',\n",
       " 'United States',\n",
       " 'unkown',\n",
       " 'United States',\n",
       " 'unkown',\n",
       " 'unkown',\n",
       " 'Canada',\n",
       " 'United States',\n",
       " 'United States',\n",
       " 'United States',\n",
       " 'United States',\n",
       " 'Philippines',\n",
       " 'United States',\n",
       " 'Spain',\n",
       " 'India',\n",
       " 'Egypt',\n",
       " 'Turkey',\n",
       " 'United States, India',\n",
       " 'United States, Canada, Indonesia, United Kingdom, China, Singapore',\n",
       " 'unkown',\n",
       " 'India, Iran',\n",
       " 'India',\n",
       " 'India',\n",
       " 'India',\n",
       " 'India',\n",
       " 'India',\n",
       " 'India',\n",
       " 'India',\n",
       " 'unkown',\n",
       " 'India',\n",
       " 'India',\n",
       " 'India',\n",
       " 'India',\n",
       " 'Germany',\n",
       " 'Germany',\n",
       " 'Germany',\n",
       " 'Germany',\n",
       " 'United States',\n",
       " 'United States',\n",
       " 'United States, Germany',\n",
       " 'United States',\n",
       " 'United States, United Kingdom',\n",
       " 'United States',\n",
       " 'Denmark',\n",
       " 'United States, Canada',\n",
       " 'France',\n",
       " 'United States',\n",
       " 'United Kingdom',\n",
       " 'United States',\n",
       " 'United States',\n",
       " 'United States',\n",
       " 'United States, United Kingdom',\n",
       " 'United States',\n",
       " 'United States',\n",
       " 'United Kingdom',\n",
       " 'unkown',\n",
       " 'United Kingdom',\n",
       " 'United Kingdom',\n",
       " 'United States',\n",
       " 'United States',\n",
       " 'India',\n",
       " 'United Kingdom, France',\n",
       " 'United States',\n",
       " 'India',\n",
       " 'India',\n",
       " 'Turkey, India',\n",
       " 'United States',\n",
       " 'United States, Mexico',\n",
       " 'Philippines, Qatar',\n",
       " 'Canada',\n",
       " 'United States',\n",
       " 'Vietnam',\n",
       " 'Egypt',\n",
       " 'India',\n",
       " 'India',\n",
       " 'Ireland, Luxembourg, Belgium',\n",
       " 'United States',\n",
       " 'India',\n",
       " 'United States, United Kingdom',\n",
       " 'Spain',\n",
       " 'United States',\n",
       " 'United States',\n",
       " 'Russia, United States',\n",
       " 'United Kingdom, Russia, United States',\n",
       " 'United States',\n",
       " 'United States',\n",
       " 'Argentina, Spain',\n",
       " 'United States',\n",
       " 'United States',\n",
       " 'United States',\n",
       " 'Japan',\n",
       " 'United States',\n",
       " 'Japan',\n",
       " 'Japan',\n",
       " 'United States',\n",
       " 'Germany, Jordan, Netherlands',\n",
       " 'France',\n",
       " 'Hong Kong, China',\n",
       " 'Australia, United States',\n",
       " 'South Africa',\n",
       " 'France',\n",
       " 'France',\n",
       " 'India',\n",
       " 'Argentina, United States',\n",
       " 'United States',\n",
       " 'France, Belgium, Spain',\n",
       " 'United States',\n",
       " 'United States',\n",
       " 'United States',\n",
       " 'United States, France',\n",
       " 'Germany, United States',\n",
       " 'United States',\n",
       " 'India',\n",
       " 'Canada',\n",
       " 'Thailand',\n",
       " 'United States',\n",
       " 'United States',\n",
       " 'United States',\n",
       " 'Canada',\n",
       " 'Denmark, Sweden, Israel, United States',\n",
       " 'United States',\n",
       " 'India',\n",
       " 'India',\n",
       " 'United Kingdom',\n",
       " 'Ireland, United Kingdom',\n",
       " 'India',\n",
       " 'India',\n",
       " 'Spain',\n",
       " 'United States',\n",
       " 'United States, Iceland',\n",
       " 'India',\n",
       " 'United States',\n",
       " 'Spain',\n",
       " 'United Arab Emirates, United Kingdom, India',\n",
       " 'India',\n",
       " 'New Zealand',\n",
       " 'United States',\n",
       " 'Netherlands',\n",
       " 'Canada',\n",
       " 'Canada',\n",
       " 'United States',\n",
       " 'India',\n",
       " 'Philippines',\n",
       " 'Spain',\n",
       " 'Denmark, Spain',\n",
       " 'New Zealand',\n",
       " 'United States',\n",
       " 'United Kingdom, Russia',\n",
       " 'India',\n",
       " 'Lebanon',\n",
       " 'Canada, United States',\n",
       " 'Egypt',\n",
       " 'Brazil',\n",
       " 'United States',\n",
       " 'Spain',\n",
       " 'Bulgaria, United States',\n",
       " 'United States',\n",
       " 'India, United Kingdom',\n",
       " 'United States, Canada, Ireland',\n",
       " 'United States',\n",
       " 'United States',\n",
       " 'Canada, United Kingdom',\n",
       " 'United States',\n",
       " 'Canada',\n",
       " 'France, Belgium',\n",
       " 'India',\n",
       " 'Hong Kong',\n",
       " 'India',\n",
       " 'United Kingdom',\n",
       " 'Australia',\n",
       " 'unkown',\n",
       " 'United States',\n",
       " 'United States',\n",
       " 'Philippines',\n",
       " 'Indonesia',\n",
       " 'United Kingdom',\n",
       " 'United States',\n",
       " 'India',\n",
       " 'United States',\n",
       " 'United States',\n",
       " 'France',\n",
       " 'Turkey',\n",
       " 'United States',\n",
       " 'China',\n",
       " 'India, United States',\n",
       " 'Canada',\n",
       " 'Canada',\n",
       " 'Canada',\n",
       " 'India',\n",
       " 'France, Belgium',\n",
       " 'Brazil',\n",
       " 'United States',\n",
       " 'India',\n",
       " 'Indonesia, Singapore',\n",
       " 'Netherlands, Denmark, France, Germany',\n",
       " 'India',\n",
       " 'India',\n",
       " 'Bulgaria, United States',\n",
       " 'United States',\n",
       " 'United States',\n",
       " 'United States',\n",
       " 'United States',\n",
       " 'United States',\n",
       " 'France, Belgium',\n",
       " 'South Korea, Japan',\n",
       " 'United States',\n",
       " 'United States',\n",
       " 'United States',\n",
       " 'United States',\n",
       " 'United States',\n",
       " 'Philippines',\n",
       " 'Philippines, Canada, United Kingdom, United States',\n",
       " 'France, Malta, United States',\n",
       " 'Kuwait',\n",
       " 'Turkey',\n",
       " 'India',\n",
       " 'India',\n",
       " 'Belgium, France',\n",
       " 'United States',\n",
       " 'Norway',\n",
       " 'Indonesia',\n",
       " 'Argentina',\n",
       " 'Egypt',\n",
       " 'United Kingdom, Pakistan',\n",
       " 'India',\n",
       " 'United Kingdom',\n",
       " 'unkown',\n",
       " 'unkown',\n",
       " 'unkown',\n",
       " 'United States',\n",
       " 'United States',\n",
       " 'Spain',\n",
       " 'United States',\n",
       " 'United States',\n",
       " 'United States',\n",
       " 'United States',\n",
       " 'Philippines',\n",
       " 'Egypt',\n",
       " 'United States',\n",
       " 'India',\n",
       " 'United States, United Kingdom',\n",
       " 'United States',\n",
       " 'France, New Zealand',\n",
       " 'India',\n",
       " 'United States',\n",
       " 'United States',\n",
       " 'France, Belgium',\n",
       " 'Ireland',\n",
       " 'India',\n",
       " 'Philippines',\n",
       " 'India',\n",
       " 'United States',\n",
       " 'Mexico',\n",
       " 'Mexico',\n",
       " 'Canada, United States',\n",
       " 'United Kingdom, United States, Australia',\n",
       " 'United States',\n",
       " 'United States',\n",
       " 'United States',\n",
       " 'United States, Mexico',\n",
       " 'France',\n",
       " 'United States, Canada',\n",
       " 'United Kingdom, Czech Republic, United States, Germany, Bahamas',\n",
       " 'Hong Kong',\n",
       " 'Hong Kong',\n",
       " 'United States, Australia, China',\n",
       " 'United States',\n",
       " 'United States, Canada',\n",
       " 'South Africa',\n",
       " 'China, Germany, India, United States',\n",
       " 'United States',\n",
       " 'United States, Australia',\n",
       " 'Canada',\n",
       " 'Norway',\n",
       " 'United States',\n",
       " 'unkown',\n",
       " 'India',\n",
       " 'Indonesia',\n",
       " 'United States',\n",
       " 'India',\n",
       " 'India',\n",
       " 'India',\n",
       " 'India',\n",
       " 'India',\n",
       " 'India',\n",
       " 'Pakistan',\n",
       " 'India',\n",
       " 'India',\n",
       " 'India',\n",
       " 'India',\n",
       " 'India',\n",
       " 'Germany, Sri Lanka',\n",
       " 'United States',\n",
       " 'Indonesia',\n",
       " 'United States, Sweden',\n",
       " 'South Africa, United States',\n",
       " 'United Kingdom, United States',\n",
       " 'United States, Germany',\n",
       " 'United States',\n",
       " 'United States',\n",
       " 'Canada, United States, Cayman Islands',\n",
       " 'India',\n",
       " 'India',\n",
       " 'United States',\n",
       " 'United States',\n",
       " 'Hong Kong, China',\n",
       " 'United States',\n",
       " 'Brazil',\n",
       " 'India, France',\n",
       " 'United States',\n",
       " 'United States',\n",
       " 'United States',\n",
       " 'India',\n",
       " 'United States',\n",
       " 'India',\n",
       " 'unkown',\n",
       " 'unkown',\n",
       " 'unkown',\n",
       " 'India',\n",
       " 'India',\n",
       " 'United States',\n",
       " 'unkown',\n",
       " 'Nigeria',\n",
       " 'United States',\n",
       " 'United Kingdom',\n",
       " 'Japan',\n",
       " 'India',\n",
       " 'China',\n",
       " 'unkown',\n",
       " 'India',\n",
       " 'United States, India, Bangladesh',\n",
       " 'United Kingdom, United States',\n",
       " 'United States, Canada, France',\n",
       " 'United States',\n",
       " 'India',\n",
       " 'India',\n",
       " 'United States',\n",
       " 'United States',\n",
       " 'United States',\n",
       " 'United States',\n",
       " 'unkown',\n",
       " 'United States',\n",
       " 'United States',\n",
       " 'United States',\n",
       " 'United States',\n",
       " 'United Kingdom, United States',\n",
       " 'United States',\n",
       " 'Germany',\n",
       " 'Canada, United States',\n",
       " 'United States',\n",
       " 'United States',\n",
       " 'United States',\n",
       " 'United Kingdom',\n",
       " 'Canada',\n",
       " 'Canada',\n",
       " 'Canada',\n",
       " 'United States',\n",
       " 'United States',\n",
       " 'United States',\n",
       " 'Argentina',\n",
       " 'unkown',\n",
       " 'unkown',\n",
       " 'unkown',\n",
       " ...]"
      ]
     },
     "execution_count": 44,
     "metadata": {},
     "output_type": "execute_result"
    }
   ],
   "source": [
    "cou=list(NetflixMoivies[\"country\"])\n",
    "cou"
   ]
  },
  {
   "cell_type": "code",
   "execution_count": 45,
   "id": "6631d109",
   "metadata": {
    "execution": {
     "iopub.execute_input": "2021-07-22T09:52:14.700587Z",
     "iopub.status.busy": "2021-07-22T09:52:14.699586Z",
     "iopub.status.idle": "2021-07-22T09:52:14.732082Z",
     "shell.execute_reply": "2021-07-22T09:52:14.732602Z",
     "shell.execute_reply.started": "2021-07-22T09:50:35.562694Z"
    },
    "papermill": {
     "duration": 0.102756,
     "end_time": "2021-07-22T09:52:14.732800",
     "exception": false,
     "start_time": "2021-07-22T09:52:14.630044",
     "status": "completed"
    },
    "tags": []
   },
   "outputs": [],
   "source": [
    "for i in cou:\n",
    "    i=list(i.split(\",\"))\n",
    "    if len(i)==1:\n",
    "        if i in list(countries.keys()):\n",
    "            countries[i]+=1\n",
    "        else:\n",
    "            countries[i[0]]=1\n",
    "    else:\n",
    "        for j in i:\n",
    "            if j in list(countries.keys()):\n",
    "                countries[j]+=1\n",
    "            else:\n",
    "                countries[j]=1\n",
    "            \n",
    "    \n",
    "    "
   ]
  },
  {
   "cell_type": "code",
   "execution_count": 46,
   "id": "6f707c34",
   "metadata": {
    "execution": {
     "iopub.execute_input": "2021-07-22T09:52:14.871287Z",
     "iopub.status.busy": "2021-07-22T09:52:14.870258Z",
     "iopub.status.idle": "2021-07-22T09:52:14.882511Z",
     "shell.execute_reply": "2021-07-22T09:52:14.882967Z",
     "shell.execute_reply.started": "2021-07-22T09:50:36.712577Z"
    },
    "papermill": {
     "duration": 0.083832,
     "end_time": "2021-07-22T09:52:14.883175",
     "exception": false,
     "start_time": "2021-07-22T09:52:14.799343",
     "status": "completed"
    },
    "scrolled": true,
    "tags": []
   },
   "outputs": [
    {
     "data": {
      "text/plain": [
       "{'Mexico': 1,\n",
       " 'Singapore': 3,\n",
       " 'United States': 1,\n",
       " 'Egypt': 1,\n",
       " 'India': 1,\n",
       " 'Thailand': 1,\n",
       " 'Nigeria': 1,\n",
       " 'Norway': 2,\n",
       " ' Iceland': 4,\n",
       " ' United States': 331,\n",
       " 'United Kingdom': 2,\n",
       " 'South Korea': 1,\n",
       " 'Italy': 1,\n",
       " 'Canada': 3,\n",
       " 'Indonesia': 1,\n",
       " 'Romania': 3,\n",
       " 'Spain': 1,\n",
       " 'Turkey': 1,\n",
       " 'Iceland': 1,\n",
       " 'South Africa': 1,\n",
       " ' Nigeria': 5,\n",
       " 'France': 4,\n",
       " ' South Africa': 14,\n",
       " 'Portugal': 2,\n",
       " ' Spain': 39,\n",
       " 'unkown': 1,\n",
       " 'Hong Kong': 1,\n",
       " ' China': 54,\n",
       " ' Singapore': 8,\n",
       " ' Germany': 89,\n",
       " 'Argentina': 2,\n",
       " ' France': 128,\n",
       " ' Serbia': 4,\n",
       " 'Germany': 3,\n",
       " 'Denmark': 2,\n",
       " ' Poland': 9,\n",
       " 'Poland': 1,\n",
       " 'Japan': 2,\n",
       " 'Kenya': 2,\n",
       " 'New Zealand': 2,\n",
       " ' United Kingdom': 126,\n",
       " 'Pakistan': 1,\n",
       " 'Australia': 1,\n",
       " 'China': 1,\n",
       " ' Hong Kong': 23,\n",
       " 'Taiwan': 1,\n",
       " ' South Korea': 13,\n",
       " ' Japan': 28,\n",
       " ' Canada': 111,\n",
       " 'Netherlands': 1,\n",
       " ' Denmark': 12,\n",
       " ' Netherlands': 17,\n",
       " 'Philippines': 1,\n",
       " 'United Arab Emirates': 2,\n",
       " 'Brazil': 1,\n",
       " 'Iran': 1,\n",
       " ' Belgium': 68,\n",
       " ' Brazil': 7,\n",
       " 'Israel': 1,\n",
       " ' Mexico': 22,\n",
       " 'Uruguay': 2,\n",
       " ' Argentina': 14,\n",
       " 'Bulgaria': 1,\n",
       " ' Chile': 4,\n",
       " ' Bulgaria': 4,\n",
       " 'Colombia': 1,\n",
       " ' Algeria': 2,\n",
       " ' Egypt': 4,\n",
       " 'Soviet Union': 1,\n",
       " ' India': 32,\n",
       " 'Sweden': 2,\n",
       " 'Malaysia': 1,\n",
       " 'Ireland': 1,\n",
       " ' Italy': 25,\n",
       " ' Luxembourg': 10,\n",
       " 'Serbia': 3,\n",
       " ' Sweden': 20,\n",
       " ' Colombia': 4,\n",
       " ' Austria': 3,\n",
       " 'Peru': 2,\n",
       " ' Senegal': 2,\n",
       " 'Chile': 4,\n",
       " ' Switzerland': 10,\n",
       " 'Ghana': 1,\n",
       " ' United Arab Emirates': 15,\n",
       " 'Saudi Arabia': 3,\n",
       " ' Armenia': 1,\n",
       " ' Jordan': 7,\n",
       " ' Mongolia': 1,\n",
       " ' New Zealand': 7,\n",
       " ' Philippines': 3,\n",
       " ' Uruguay': 5,\n",
       " 'Namibia': 1,\n",
       " ' Finland': 4,\n",
       " ' Australia': 28,\n",
       " ' Ireland': 8,\n",
       " 'Lebanon': 2,\n",
       " 'Belgium': 1,\n",
       " ' Indonesia': 3,\n",
       " ' Iran': 3,\n",
       " ' Qatar': 7,\n",
       " 'Vietnam': 1,\n",
       " 'Russia': 3,\n",
       " ' Russia': 5,\n",
       " ' Israel': 6,\n",
       " ' Malta': 2,\n",
       " 'Kuwait': 1,\n",
       " ' Pakistan': 2,\n",
       " ' Czech Republic': 10,\n",
       " ' Bahamas': 1,\n",
       " ' Sri Lanka': 1,\n",
       " ' Cayman Islands': 2,\n",
       " ' Bangladesh': 1,\n",
       " '': 4,\n",
       " 'Czech Republic': 4,\n",
       " 'Zimbabwe': 1,\n",
       " 'Hungary': 1,\n",
       " ' Thailand': 4,\n",
       " ' Zimbabwe': 2,\n",
       " 'Finland': 3,\n",
       " ' Norway': 9,\n",
       " ' Latvia': 1,\n",
       " ' Liechtenstein': 1,\n",
       " 'Venezuela': 2,\n",
       " ' Peru': 4,\n",
       " ' Morocco': 6,\n",
       " ' Cambodia': 3,\n",
       " 'Cambodia': 1,\n",
       " ' Albania': 1,\n",
       " ' Nicaragua': 1,\n",
       " ' Lebanon': 5,\n",
       " ' Greece': 7,\n",
       " ' Turkey': 2,\n",
       " ' Croatia': 2,\n",
       " ' Guatemala': 1,\n",
       " 'West Germany': 1,\n",
       " 'Slovenia': 1,\n",
       " 'Switzerland': 2,\n",
       " ' Dominican Republic': 1,\n",
       " ' Portugal': 2,\n",
       " 'Austria': 1,\n",
       " 'Bangladesh': 1,\n",
       " ' Nepal': 2,\n",
       " ' Taiwan': 3,\n",
       " ' Samoa': 1,\n",
       " ' West Germany': 2,\n",
       " ' Bermuda': 1,\n",
       " ' Ecuador': 1,\n",
       " 'Georgia': 1,\n",
       " ' Botswana': 1,\n",
       " ' Iraq': 2,\n",
       " ' Hungary': 4,\n",
       " ' Kenya': 2,\n",
       " ' Vatican City': 1,\n",
       " ' Malaysia': 2,\n",
       " ' Angola': 1,\n",
       " 'Guatemala': 1,\n",
       " ' Soviet Union': 2,\n",
       " 'Jamaica': 1,\n",
       " ' Kazakhstan': 1,\n",
       " ' Malawi': 1,\n",
       " ' Romania': 2,\n",
       " 'Greece': 1,\n",
       " ' Slovakia': 1,\n",
       " ' Lithuania': 1,\n",
       " ' Afghanistan': 1,\n",
       " 'Paraguay': 1,\n",
       " 'Somalia': 1,\n",
       " ' Sudan': 1,\n",
       " ' Panama': 1,\n",
       " ' Slovenia': 2,\n",
       " ' Venezuela': 1,\n",
       " ' Namibia': 1,\n",
       " ' Uganda': 1,\n",
       " ' East Germany': 1,\n",
       " ' Ukraine': 1,\n",
       " 'Croatia': 1,\n",
       " ' Montenegro': 1}"
      ]
     },
     "execution_count": 46,
     "metadata": {},
     "output_type": "execute_result"
    }
   ],
   "source": [
    "countries"
   ]
  },
  {
   "cell_type": "code",
   "execution_count": 47,
   "id": "8c4873fc",
   "metadata": {
    "execution": {
     "iopub.execute_input": "2021-07-22T09:52:15.022429Z",
     "iopub.status.busy": "2021-07-22T09:52:15.021324Z",
     "iopub.status.idle": "2021-07-22T09:52:15.028742Z",
     "shell.execute_reply": "2021-07-22T09:52:15.029254Z",
     "shell.execute_reply.started": "2021-07-22T09:50:52.166288Z"
    },
    "papermill": {
     "duration": 0.078793,
     "end_time": "2021-07-22T09:52:15.029450",
     "exception": false,
     "start_time": "2021-07-22T09:52:14.950657",
     "status": "completed"
    },
    "tags": []
   },
   "outputs": [],
   "source": [
    "countries_fin={}\n",
    "for country,no in countries.items():\n",
    "    country=country.replace(' ','')\n",
    "   \n",
    "\n",
    "    if country in list(countries_fin.keys()):\n",
    "        countries_fin[country]+=no\n",
    "    else:\n",
    "        countries_fin[country]=no\n",
    "        \n",
    "countries_fin={k: v for k, v in sorted(countries_fin.items(), key=lambda item: item[1], reverse= True)}"
   ]
  },
  {
   "cell_type": "code",
   "execution_count": 48,
   "id": "149fe50c",
   "metadata": {
    "execution": {
     "iopub.execute_input": "2021-07-22T09:52:15.170338Z",
     "iopub.status.busy": "2021-07-22T09:52:15.169338Z",
     "iopub.status.idle": "2021-07-22T09:52:15.179041Z",
     "shell.execute_reply": "2021-07-22T09:52:15.179494Z",
     "shell.execute_reply.started": "2021-07-22T09:50:55.024456Z"
    },
    "papermill": {
     "duration": 0.080714,
     "end_time": "2021-07-22T09:52:15.179680",
     "exception": false,
     "start_time": "2021-07-22T09:52:15.098966",
     "status": "completed"
    },
    "tags": []
   },
   "outputs": [
    {
     "data": {
      "text/plain": [
       "{'UnitedStates': 332,\n",
       " 'France': 132,\n",
       " 'UnitedKingdom': 128,\n",
       " 'Canada': 114,\n",
       " 'Germany': 92,\n",
       " 'Belgium': 69,\n",
       " 'China': 55,\n",
       " 'Spain': 40,\n",
       " 'India': 33,\n",
       " 'Japan': 30,\n",
       " 'Australia': 29,\n",
       " 'Italy': 26,\n",
       " 'HongKong': 24,\n",
       " 'Mexico': 23,\n",
       " 'Sweden': 22,\n",
       " 'Netherlands': 18,\n",
       " 'UnitedArabEmirates': 17,\n",
       " 'Argentina': 16,\n",
       " 'SouthAfrica': 15,\n",
       " 'SouthKorea': 14,\n",
       " 'Denmark': 14,\n",
       " 'CzechRepublic': 14,\n",
       " 'Switzerland': 12,\n",
       " 'Singapore': 11,\n",
       " 'Norway': 11,\n",
       " 'Poland': 10,\n",
       " 'Luxembourg': 10,\n",
       " 'NewZealand': 9,\n",
       " 'Ireland': 9,\n",
       " 'Brazil': 8,\n",
       " 'Chile': 8,\n",
       " 'Russia': 8,\n",
       " 'Greece': 8,\n",
       " 'Serbia': 7,\n",
       " 'Israel': 7,\n",
       " 'Uruguay': 7,\n",
       " 'Jordan': 7,\n",
       " 'Finland': 7,\n",
       " 'Lebanon': 7,\n",
       " 'Qatar': 7,\n",
       " 'Nigeria': 6,\n",
       " 'Peru': 6,\n",
       " 'Morocco': 6,\n",
       " 'Egypt': 5,\n",
       " 'Thailand': 5,\n",
       " 'Iceland': 5,\n",
       " 'Romania': 5,\n",
       " 'Bulgaria': 5,\n",
       " 'Colombia': 5,\n",
       " 'Hungary': 5,\n",
       " 'Indonesia': 4,\n",
       " 'Portugal': 4,\n",
       " 'Kenya': 4,\n",
       " 'Taiwan': 4,\n",
       " 'Philippines': 4,\n",
       " 'Iran': 4,\n",
       " 'Austria': 4,\n",
       " '': 4,\n",
       " 'Cambodia': 4,\n",
       " 'Turkey': 3,\n",
       " 'Pakistan': 3,\n",
       " 'SovietUnion': 3,\n",
       " 'Malaysia': 3,\n",
       " 'SaudiArabia': 3,\n",
       " 'Zimbabwe': 3,\n",
       " 'Venezuela': 3,\n",
       " 'Croatia': 3,\n",
       " 'WestGermany': 3,\n",
       " 'Slovenia': 3,\n",
       " 'Algeria': 2,\n",
       " 'Senegal': 2,\n",
       " 'Namibia': 2,\n",
       " 'Malta': 2,\n",
       " 'CaymanIslands': 2,\n",
       " 'Bangladesh': 2,\n",
       " 'Guatemala': 2,\n",
       " 'Nepal': 2,\n",
       " 'Iraq': 2,\n",
       " 'unkown': 1,\n",
       " 'Ghana': 1,\n",
       " 'Armenia': 1,\n",
       " 'Mongolia': 1,\n",
       " 'Vietnam': 1,\n",
       " 'Kuwait': 1,\n",
       " 'Bahamas': 1,\n",
       " 'SriLanka': 1,\n",
       " 'Latvia': 1,\n",
       " 'Liechtenstein': 1,\n",
       " 'Albania': 1,\n",
       " 'Nicaragua': 1,\n",
       " 'DominicanRepublic': 1,\n",
       " 'Samoa': 1,\n",
       " 'Bermuda': 1,\n",
       " 'Ecuador': 1,\n",
       " 'Georgia': 1,\n",
       " 'Botswana': 1,\n",
       " 'VaticanCity': 1,\n",
       " 'Angola': 1,\n",
       " 'Jamaica': 1,\n",
       " 'Kazakhstan': 1,\n",
       " 'Malawi': 1,\n",
       " 'Slovakia': 1,\n",
       " 'Lithuania': 1,\n",
       " 'Afghanistan': 1,\n",
       " 'Paraguay': 1,\n",
       " 'Somalia': 1,\n",
       " 'Sudan': 1,\n",
       " 'Panama': 1,\n",
       " 'Uganda': 1,\n",
       " 'EastGermany': 1,\n",
       " 'Ukraine': 1,\n",
       " 'Montenegro': 1}"
      ]
     },
     "execution_count": 48,
     "metadata": {},
     "output_type": "execute_result"
    }
   ],
   "source": [
    "countries_fin"
   ]
  },
  {
   "cell_type": "markdown",
   "id": "ff8d904e",
   "metadata": {
    "papermill": {
     "duration": 0.067008,
     "end_time": "2021-07-22T09:52:15.316553",
     "exception": false,
     "start_time": "2021-07-22T09:52:15.249545",
     "status": "completed"
    },
    "tags": []
   },
   "source": [
    "# Top 10 content creating countries"
   ]
  },
  {
   "cell_type": "code",
   "execution_count": 49,
   "id": "86403c69",
   "metadata": {
    "execution": {
     "iopub.execute_input": "2021-07-22T09:52:15.455971Z",
     "iopub.status.busy": "2021-07-22T09:52:15.455020Z",
     "iopub.status.idle": "2021-07-22T09:52:15.876880Z",
     "shell.execute_reply": "2021-07-22T09:52:15.877383Z",
     "shell.execute_reply.started": "2021-07-22T09:51:00.421064Z"
    },
    "papermill": {
     "duration": 0.493501,
     "end_time": "2021-07-22T09:52:15.877575",
     "exception": false,
     "start_time": "2021-07-22T09:52:15.384074",
     "status": "completed"
    },
    "tags": []
   },
   "outputs": [
    {
     "data": {
      "text/plain": [
       "[Text(0, 0, 'UnitedStates'),\n",
       " Text(1, 0, 'France'),\n",
       " Text(2, 0, 'UnitedKingdom'),\n",
       " Text(3, 0, 'Canada'),\n",
       " Text(4, 0, 'Germany'),\n",
       " Text(5, 0, 'Belgium'),\n",
       " Text(6, 0, 'China'),\n",
       " Text(7, 0, 'Spain'),\n",
       " Text(8, 0, 'India'),\n",
       " Text(9, 0, 'Japan')]"
      ]
     },
     "execution_count": 49,
     "metadata": {},
     "output_type": "execute_result"
    },
    {
     "data": {
      "image/png": "[encoded data removed]",
      "text/plain": [
       "<Figure size 576x576 with 1 Axes>"
      ]
     },
     "metadata": {},
     "output_type": "display_data"
    }
   ],
   "source": [
    "plt.figure(figsize=(8,8))\n",
    "ax = sns.barplot(x=list(countries_fin.keys())[0:10],y=list(countries_fin.values())[0:10])\n",
    "ax.set_xticklabels(list(countries_fin.keys())[0:10],rotation = 90)"
   ]
  },
  {
   "cell_type": "code",
   "execution_count": null,
   "id": "1b265c52",
   "metadata": {
    "papermill": {
     "duration": 0.070224,
     "end_time": "2021-07-22T09:52:16.016763",
     "exception": false,
     "start_time": "2021-07-22T09:52:15.946539",
     "status": "completed"
    },
    "tags": []
   },
   "outputs": [],
   "source": []
  }
 ],
 "metadata": {
  "kernelspec": {
   "display_name": "Python 3",
   "language": "python",
   "name": "python3"
  },
  "language_info": {
   "codemirror_mode": {
    "name": "ipython",
    "version": 3
   },
   "file_extension": ".py",
   "mimetype": "text/x-python",
   "name": "python",
   "nbconvert_exporter": "python",
   "pygments_lexer": "ipython3",
   "version": "3.7.10"
  },
  "papermill": {
   "default_parameters": {},
   "duration": 24.967105,
   "end_time": "2021-07-22T09:52:17.462548",
   "environment_variables": {},
   "exception": null,
   "input_path": "__notebook__.ipynb",
   "output_path": "__notebook__.ipynb",
   "parameters": {},
   "start_time": "2021-07-22T09:51:52.495443",
   "version": "2.3.3"
  }
 },
 "nbformat": 4,
 "nbformat_minor": 5
}
